{
 "cells": [
  {
   "cell_type": "code",
   "execution_count": 1,
   "metadata": {
    "collapsed": true
   },
   "outputs": [],
   "source": [
    "import pandas as pd\n",
    "import numpy as np\n",
    "from collections import Counter"
   ]
  },
  {
   "cell_type": "code",
   "execution_count": 2,
   "metadata": {
    "collapsed": true
   },
   "outputs": [],
   "source": [
    "# afsluiters uit BM GIS laden in een dataframe\n",
    "AFS = pd.read_excel('AFS_in_bedrijf_24_04_2018.xlsx', sheetname=None)\n",
    "Afsluiters = AFS['G afsluiter']"
   ]
  },
  {
   "cell_type": "code",
   "execution_count": 3,
   "metadata": {
    "collapsed": true
   },
   "outputs": [],
   "source": [
    "Afsluiters['Id'] = Afsluiters['Id'].fillna(0)\n",
    "Afsluiters['Id'] = Afsluiters['Id'].astype(int)"
   ]
  },
  {
   "cell_type": "code",
   "execution_count": 4,
   "metadata": {},
   "outputs": [],
   "source": [
    "# 'G inlaat' en 'G uitlaat' zijn gevuld als de afsluiter gekoppeld is met een station. Lege cellen gevuld met de string 'Leeg'\n",
    "Afsluiters['G inlaat'] = Afsluiters['G inlaat'].fillna('Leeg')\n",
    "Afsluiters['G uitlaat'] = Afsluiters['G uitlaat'].fillna('Leeg')\n",
    "\n",
    "Afsluiters = Afsluiters.rename(columns = {'Id' : 'Id afsluiter'})\n",
    "Afsluiters = Afsluiters.rename(columns = {'Soort' : 'Soort afsluiter'})\n",
    "\n",
    "# Overige lege cellen worden gevuld met de string 'Onbekend'\n",
    "Afsluiters = Afsluiters.fillna('Onbekend')\n",
    "\n",
    "Afsluiters_inlaat = Afsluiters[Afsluiters['G inlaat'] != 'Leeg']\n",
    "Afsluiters_inlaat = Afsluiters_inlaat.rename(columns = {'G inlaat' : 'Id station inlaat'})\n",
    "Afsluiters_inlaat = Afsluiters_inlaat.drop(['G uitlaat'], axis=1)\n",
    "\n",
    "Afsluiters_uitlaat = Afsluiters[Afsluiters['G uitlaat'] != 'Leeg']\n",
    "Afsluiters_uitlaat = Afsluiters_uitlaat.rename(columns = {'G uitlaat' : 'Id station uitlaat'})\n",
    "Afsluiters_uitlaat = Afsluiters_uitlaat.drop(['G inlaat'], axis=1)\n",
    "\n",
    "Afsluiters_inlaat_en_uitlaat = Afsluiters[(Afsluiters['G inlaat'] != 'Leeg') & (Afsluiters['G uitlaat'] != 'Leeg')]\n",
    "Afsluiters_inlaat_en_uitlaat = Afsluiters_inlaat_en_uitlaat.rename(columns = {'G inlaat' : 'Id station inlaat'})\n",
    "Afsluiters_inlaat_en_uitlaat = Afsluiters_inlaat_en_uitlaat.rename(columns = {'G uitlaat' : 'Id station uitlaat'})\n",
    "\n",
    "Station_afsluiters = pd.concat([Afsluiters_inlaat, Afsluiters_uitlaat, Afsluiters_inlaat_en_uitlaat])"
   ]
  },
  {
   "cell_type": "code",
   "execution_count": 5,
   "metadata": {},
   "outputs": [],
   "source": [
    "# voeg een kolom to met het aantal onbekenden van de 5 relevante kolommen\n",
    "eigenschappen = ['Identificatienummer', 'Type', 'Soort afsluiter', 'Fabrikaat', 'Functie']\n",
    "Afsluiters['Aantal onbekenden'] = (Afsluiters[eigenschappen] == 'Onbekend').sum(axis=1)"
   ]
  },
  {
   "cell_type": "code",
   "execution_count": 6,
   "metadata": {},
   "outputs": [],
   "source": [
    "Afsluiters = Afsluiters[['Jaar van eerste aanleg'] + eigenschappen + ['Aantal onbekenden', 'Id afsluiter']]"
   ]
  },
  {
   "cell_type": "code",
   "execution_count": 7,
   "metadata": {
    "collapsed": true
   },
   "outputs": [],
   "source": [
    "# afsluiters zijn soms gekoppeld aan stations\n",
    "S = pd.read_excel('S_24_04_2018.xlsx', sheetname=None)\n",
    "\n",
    "Stations = S['G station']\n",
    "Stations = Stations.fillna('Onbekend')\n",
    "Stations = Stations.rename(columns = {'Id' : 'Id station'})\n",
    "Stations = Stations.rename(columns = {'Soort' : 'Soort station'})\n",
    "Stations = Stations.rename(columns = {'Status' : 'Status station'})"
   ]
  },
  {
   "cell_type": "code",
   "execution_count": 8,
   "metadata": {
    "collapsed": true
   },
   "outputs": [],
   "source": [
    "def tel_bekendheid(Afsluiters, jaar = None):\n",
    "    \n",
    "    if jaar != None:\n",
    "        Afsluiters = Afsluiters[Afsluiters['Jaar van eerste aanleg'] == jaar]\n",
    "        \n",
    "    eigenschappen = ['Identificatienummer', 'Type', 'Soort afsluiter', 'Fabrikaat', 'Functie']\n",
    "    \n",
    "    eigenschap_bekendheid = pd.DataFrame(index=['bekend', 'onbekend'], columns=eigenschappen)\n",
    "    \n",
    "    eigenschap_bekendheid.loc['bekend'] = (Afsluiters[eigenschappen] != 'Onbekend').sum()\n",
    "    eigenschap_bekendheid.loc['onbekend'] = (Afsluiters[eigenschappen] == 'Onbekend').sum()\n",
    "\n",
    "    eigenschap_bekendheid.columns.name = 'jaar: %s, aantal afsluiters: %i' % (jaar, len(Afsluiters))\n",
    "    \n",
    "    telling = (Afsluiters[eigenschappen] == 'Onbekend').sum(axis=1)\n",
    "    aantal_onbekenden = telling.to_frame().groupby(0).size().to_frame('Aantal afsluiters')\n",
    "    \n",
    "    aantal_onbekenden.index.name = 'Aantal onbekenden eigenschappen'\n",
    "    aantal_onbekenden.columns.name = 'jaar: %s, aantal afsluiters: %i' % (jaar, len(Afsluiters))\n",
    "    \n",
    "    return eigenschap_bekendheid, aantal_onbekenden"
   ]
  },
  {
   "cell_type": "code",
   "execution_count": 20,
   "metadata": {},
   "outputs": [],
   "source": [
    "eigenschap_bekendheid, aantal_onbekenden = tel_bekendheid(Afsluiters)"
   ]
  },
  {
   "cell_type": "code",
   "execution_count": 21,
   "metadata": {},
   "outputs": [
    {
     "data": {
      "text/html": [
       "<div>\n",
       "<style>\n",
       "    .dataframe thead tr:only-child th {\n",
       "        text-align: right;\n",
       "    }\n",
       "\n",
       "    .dataframe thead th {\n",
       "        text-align: left;\n",
       "    }\n",
       "\n",
       "    .dataframe tbody tr th {\n",
       "        vertical-align: top;\n",
       "    }\n",
       "</style>\n",
       "<table border=\"1\" class=\"dataframe\">\n",
       "  <thead>\n",
       "    <tr style=\"text-align: right;\">\n",
       "      <th>jaar: None, aantal afsluiters: 81773</th>\n",
       "      <th>Identificatienummer</th>\n",
       "      <th>Type</th>\n",
       "      <th>Soort afsluiter</th>\n",
       "      <th>Fabrikaat</th>\n",
       "      <th>Functie</th>\n",
       "    </tr>\n",
       "  </thead>\n",
       "  <tbody>\n",
       "    <tr>\n",
       "      <th>bekend</th>\n",
       "      <td>76484</td>\n",
       "      <td>77199</td>\n",
       "      <td>65706</td>\n",
       "      <td>55943</td>\n",
       "      <td>71067</td>\n",
       "    </tr>\n",
       "    <tr>\n",
       "      <th>onbekend</th>\n",
       "      <td>5289</td>\n",
       "      <td>4574</td>\n",
       "      <td>16067</td>\n",
       "      <td>25830</td>\n",
       "      <td>10706</td>\n",
       "    </tr>\n",
       "  </tbody>\n",
       "</table>\n",
       "</div>"
      ],
      "text/plain": [
       "jaar: None, aantal afsluiters: 81773  Identificatienummer   Type  \\\n",
       "bekend                                              76484  77199   \n",
       "onbekend                                             5289   4574   \n",
       "\n",
       "jaar: None, aantal afsluiters: 81773  Soort afsluiter  Fabrikaat  Functie  \n",
       "bekend                                          65706      55943    71067  \n",
       "onbekend                                        16067      25830    10706  "
      ]
     },
     "execution_count": 21,
     "metadata": {},
     "output_type": "execute_result"
    }
   ],
   "source": [
    "eigenschap_bekendheid"
   ]
  },
  {
   "cell_type": "code",
   "execution_count": 22,
   "metadata": {},
   "outputs": [
    {
     "data": {
      "text/html": [
       "<div>\n",
       "<style>\n",
       "    .dataframe thead tr:only-child th {\n",
       "        text-align: right;\n",
       "    }\n",
       "\n",
       "    .dataframe thead th {\n",
       "        text-align: left;\n",
       "    }\n",
       "\n",
       "    .dataframe tbody tr th {\n",
       "        vertical-align: top;\n",
       "    }\n",
       "</style>\n",
       "<table border=\"1\" class=\"dataframe\">\n",
       "  <thead>\n",
       "    <tr style=\"text-align: right;\">\n",
       "      <th>jaar: None, aantal afsluiters: 81773</th>\n",
       "      <th>Aantal afsluiters</th>\n",
       "    </tr>\n",
       "    <tr>\n",
       "      <th>Aantal onbekenden eigenschappen</th>\n",
       "      <th></th>\n",
       "    </tr>\n",
       "  </thead>\n",
       "  <tbody>\n",
       "    <tr>\n",
       "      <th>0</th>\n",
       "      <td>46603</td>\n",
       "    </tr>\n",
       "    <tr>\n",
       "      <th>1</th>\n",
       "      <td>18591</td>\n",
       "    </tr>\n",
       "    <tr>\n",
       "      <th>2</th>\n",
       "      <td>8805</td>\n",
       "    </tr>\n",
       "    <tr>\n",
       "      <th>3</th>\n",
       "      <td>4935</td>\n",
       "    </tr>\n",
       "    <tr>\n",
       "      <th>4</th>\n",
       "      <td>2735</td>\n",
       "    </tr>\n",
       "    <tr>\n",
       "      <th>5</th>\n",
       "      <td>104</td>\n",
       "    </tr>\n",
       "  </tbody>\n",
       "</table>\n",
       "</div>"
      ],
      "text/plain": [
       "jaar: None, aantal afsluiters: 81773  Aantal afsluiters\n",
       "Aantal onbekenden eigenschappen                        \n",
       "0                                                 46603\n",
       "1                                                 18591\n",
       "2                                                  8805\n",
       "3                                                  4935\n",
       "4                                                  2735\n",
       "5                                                   104"
      ]
     },
     "execution_count": 22,
     "metadata": {},
     "output_type": "execute_result"
    }
   ],
   "source": [
    "aantal_onbekenden"
   ]
  },
  {
   "cell_type": "code",
   "execution_count": 17,
   "metadata": {},
   "outputs": [
    {
     "data": {
      "text/html": [
       "<div>\n",
       "<style>\n",
       "    .dataframe thead tr:only-child th {\n",
       "        text-align: right;\n",
       "    }\n",
       "\n",
       "    .dataframe thead th {\n",
       "        text-align: left;\n",
       "    }\n",
       "\n",
       "    .dataframe tbody tr th {\n",
       "        vertical-align: top;\n",
       "    }\n",
       "</style>\n",
       "<table border=\"1\" class=\"dataframe\">\n",
       "  <thead>\n",
       "    <tr style=\"text-align: right;\">\n",
       "      <th></th>\n",
       "      <th>Jaar van eerste aanleg</th>\n",
       "      <th>Identificatienummer</th>\n",
       "      <th>Type</th>\n",
       "      <th>Soort afsluiter</th>\n",
       "      <th>Fabrikaat</th>\n",
       "      <th>Functie</th>\n",
       "      <th>Aantal onbekenden</th>\n",
       "      <th>Id afsluiter</th>\n",
       "    </tr>\n",
       "  </thead>\n",
       "  <tbody>\n",
       "    <tr>\n",
       "      <th>50613</th>\n",
       "      <td>2016</td>\n",
       "      <td>AFS.067.816</td>\n",
       "      <td>PN 10</td>\n",
       "      <td>Kogelkraan</td>\n",
       "      <td>Onbekend</td>\n",
       "      <td>Brandafsluiter</td>\n",
       "      <td>1</td>\n",
       "      <td>213239473</td>\n",
       "    </tr>\n",
       "    <tr>\n",
       "      <th>74555</th>\n",
       "      <td>2016</td>\n",
       "      <td>AFS.077.003</td>\n",
       "      <td>Onbekend</td>\n",
       "      <td>Onbekend</td>\n",
       "      <td>Onbekend</td>\n",
       "      <td>Brandafsluiter</td>\n",
       "      <td>3</td>\n",
       "      <td>232160906</td>\n",
       "    </tr>\n",
       "    <tr>\n",
       "      <th>75654</th>\n",
       "      <td>2016</td>\n",
       "      <td>AFS.215.407</td>\n",
       "      <td>DIN 3225</td>\n",
       "      <td>Schuif</td>\n",
       "      <td>Onbekend</td>\n",
       "      <td>Netafsluiter</td>\n",
       "      <td>1</td>\n",
       "      <td>235799455</td>\n",
       "    </tr>\n",
       "    <tr>\n",
       "      <th>76669</th>\n",
       "      <td>2016</td>\n",
       "      <td>Onbekend</td>\n",
       "      <td>Onbekend</td>\n",
       "      <td>Onbekend</td>\n",
       "      <td>Onbekend</td>\n",
       "      <td>Onbekend</td>\n",
       "      <td>5</td>\n",
       "      <td>239701044</td>\n",
       "    </tr>\n",
       "    <tr>\n",
       "      <th>77059</th>\n",
       "      <td>2016</td>\n",
       "      <td>AFS.071.366</td>\n",
       "      <td>Onbekend</td>\n",
       "      <td>Onbekend</td>\n",
       "      <td>Onbekend</td>\n",
       "      <td>Brandafsluiter</td>\n",
       "      <td>3</td>\n",
       "      <td>240398769</td>\n",
       "    </tr>\n",
       "    <tr>\n",
       "      <th>77290</th>\n",
       "      <td>2016</td>\n",
       "      <td>Onbekend</td>\n",
       "      <td>Onbekend</td>\n",
       "      <td>Onbekend</td>\n",
       "      <td>Onbekend</td>\n",
       "      <td>Brandafsluiter</td>\n",
       "      <td>4</td>\n",
       "      <td>241423730</td>\n",
       "    </tr>\n",
       "    <tr>\n",
       "      <th>77520</th>\n",
       "      <td>2016</td>\n",
       "      <td>Onbekend</td>\n",
       "      <td>Onbekend</td>\n",
       "      <td>Onbekend</td>\n",
       "      <td>Onbekend</td>\n",
       "      <td>Brandafsluiter</td>\n",
       "      <td>4</td>\n",
       "      <td>241730579</td>\n",
       "    </tr>\n",
       "    <tr>\n",
       "      <th>77569</th>\n",
       "      <td>2016</td>\n",
       "      <td>Onbekend</td>\n",
       "      <td>Onbekend</td>\n",
       "      <td>Onbekend</td>\n",
       "      <td>Onbekend</td>\n",
       "      <td>Brandafsluiter</td>\n",
       "      <td>4</td>\n",
       "      <td>241893906</td>\n",
       "    </tr>\n",
       "    <tr>\n",
       "      <th>77792</th>\n",
       "      <td>2016</td>\n",
       "      <td>AFS.078.491</td>\n",
       "      <td>Onbekend</td>\n",
       "      <td>Onbekend</td>\n",
       "      <td>Onbekend</td>\n",
       "      <td>Brandafsluiter</td>\n",
       "      <td>3</td>\n",
       "      <td>242362423</td>\n",
       "    </tr>\n",
       "    <tr>\n",
       "      <th>77793</th>\n",
       "      <td>2016</td>\n",
       "      <td>AFS.078.539</td>\n",
       "      <td>Onbekend</td>\n",
       "      <td>Onbekend</td>\n",
       "      <td>Onbekend</td>\n",
       "      <td>Brandafsluiter</td>\n",
       "      <td>3</td>\n",
       "      <td>242362436</td>\n",
       "    </tr>\n",
       "    <tr>\n",
       "      <th>79124</th>\n",
       "      <td>2016</td>\n",
       "      <td>Onbekend</td>\n",
       "      <td>Onbekend</td>\n",
       "      <td>Onbekend</td>\n",
       "      <td>Onbekend</td>\n",
       "      <td>Brandafsluiter</td>\n",
       "      <td>4</td>\n",
       "      <td>244919158</td>\n",
       "    </tr>\n",
       "    <tr>\n",
       "      <th>79810</th>\n",
       "      <td>2016</td>\n",
       "      <td>Onbekend</td>\n",
       "      <td>Onbekend</td>\n",
       "      <td>Onbekend</td>\n",
       "      <td>Onbekend</td>\n",
       "      <td>Brandafsluiter</td>\n",
       "      <td>4</td>\n",
       "      <td>261291240</td>\n",
       "    </tr>\n",
       "    <tr>\n",
       "      <th>80734</th>\n",
       "      <td>2016</td>\n",
       "      <td>Onbekend</td>\n",
       "      <td>Onbekend</td>\n",
       "      <td>Onbekend</td>\n",
       "      <td>Onbekend</td>\n",
       "      <td>Brandafsluiter</td>\n",
       "      <td>4</td>\n",
       "      <td>282984216</td>\n",
       "    </tr>\n",
       "    <tr>\n",
       "      <th>81238</th>\n",
       "      <td>2016</td>\n",
       "      <td>Onbekend</td>\n",
       "      <td>Onbekend</td>\n",
       "      <td>Onbekend</td>\n",
       "      <td>Onbekend</td>\n",
       "      <td>Brandafsluiter</td>\n",
       "      <td>4</td>\n",
       "      <td>295955733</td>\n",
       "    </tr>\n",
       "  </tbody>\n",
       "</table>\n",
       "</div>"
      ],
      "text/plain": [
       "      Jaar van eerste aanleg Identificatienummer      Type Soort afsluiter  \\\n",
       "50613                   2016         AFS.067.816     PN 10      Kogelkraan   \n",
       "74555                   2016         AFS.077.003  Onbekend        Onbekend   \n",
       "75654                   2016         AFS.215.407  DIN 3225          Schuif   \n",
       "76669                   2016            Onbekend  Onbekend        Onbekend   \n",
       "77059                   2016         AFS.071.366  Onbekend        Onbekend   \n",
       "77290                   2016            Onbekend  Onbekend        Onbekend   \n",
       "77520                   2016            Onbekend  Onbekend        Onbekend   \n",
       "77569                   2016            Onbekend  Onbekend        Onbekend   \n",
       "77792                   2016         AFS.078.491  Onbekend        Onbekend   \n",
       "77793                   2016         AFS.078.539  Onbekend        Onbekend   \n",
       "79124                   2016            Onbekend  Onbekend        Onbekend   \n",
       "79810                   2016            Onbekend  Onbekend        Onbekend   \n",
       "80734                   2016            Onbekend  Onbekend        Onbekend   \n",
       "81238                   2016            Onbekend  Onbekend        Onbekend   \n",
       "\n",
       "      Fabrikaat         Functie  Aantal onbekenden  Id afsluiter  \n",
       "50613  Onbekend  Brandafsluiter                  1     213239473  \n",
       "74555  Onbekend  Brandafsluiter                  3     232160906  \n",
       "75654  Onbekend    Netafsluiter                  1     235799455  \n",
       "76669  Onbekend        Onbekend                  5     239701044  \n",
       "77059  Onbekend  Brandafsluiter                  3     240398769  \n",
       "77290  Onbekend  Brandafsluiter                  4     241423730  \n",
       "77520  Onbekend  Brandafsluiter                  4     241730579  \n",
       "77569  Onbekend  Brandafsluiter                  4     241893906  \n",
       "77792  Onbekend  Brandafsluiter                  3     242362423  \n",
       "77793  Onbekend  Brandafsluiter                  3     242362436  \n",
       "79124  Onbekend  Brandafsluiter                  4     244919158  \n",
       "79810  Onbekend  Brandafsluiter                  4     261291240  \n",
       "80734  Onbekend  Brandafsluiter                  4     282984216  \n",
       "81238  Onbekend  Brandafsluiter                  4     295955733  "
      ]
     },
     "execution_count": 17,
     "metadata": {},
     "output_type": "execute_result"
    }
   ],
   "source": [
    "Afsluiters[(Afsluiters['Jaar van eerste aanleg'] == 2016) & (Afsluiters['Fabrikaat'] == 'Onbekend')]"
   ]
  },
  {
   "cell_type": "code",
   "execution_count": 19,
   "metadata": {},
   "outputs": [
    {
     "data": {
      "text/plain": [
       "Type\n",
       "1925              4\n",
       "1945             12\n",
       "1949              9\n",
       "2635             74\n",
       "DIN 3225          2\n",
       "DN 1882          81\n",
       "GIJ ND 10        43\n",
       "GS PN 16          9\n",
       "K200              1\n",
       "K50               2\n",
       "KK100             1\n",
       "KK50             11\n",
       "Kunststof      1036\n",
       "ND 10           335\n",
       "ND 16            22\n",
       "Onbekend       4345\n",
       "PN 10         15210\n",
       "PN 16          3782\n",
       "PN 40             2\n",
       "ST DN 1882        6\n",
       "ST ND 16        153\n",
       "Seguro            1\n",
       "Staal           689\n",
       "dtype: int64"
      ]
     },
     "execution_count": 19,
     "metadata": {},
     "output_type": "execute_result"
    }
   ],
   "source": [
    "Afsluiters[Afsluiters['Fabrikaat'] == 'Onbekend'].groupby('Type').size()"
   ]
  },
  {
   "cell_type": "code",
   "execution_count": null,
   "metadata": {},
   "outputs": [],
   "source": [
    "aantal_onbekenden"
   ]
  },
  {
   "cell_type": "code",
   "execution_count": null,
   "metadata": {
    "collapsed": true
   },
   "outputs": [],
   "source": [
    "'aantal afsluiters: %i' % len(Afsluiters)"
   ]
  },
  {
   "cell_type": "code",
   "execution_count": null,
   "metadata": {},
   "outputs": [],
   "source": []
  },
  {
   "cell_type": "code",
   "execution_count": null,
   "metadata": {},
   "outputs": [],
   "source": [
    "eigenschap_bekendheid"
   ]
  },
  {
   "cell_type": "code",
   "execution_count": null,
   "metadata": {
    "collapsed": true
   },
   "outputs": [],
   "source": []
  },
  {
   "cell_type": "code",
   "execution_count": null,
   "metadata": {
    "collapsed": true
   },
   "outputs": [],
   "source": [
    "merge = pd.merge(station_afsluiters, stations, on='station_id').loc[:, ['afsluiter_id',\n",
    "                                                                        'Functie',\n",
    "                                                                        'station_id',\n",
    "                                                                        'Stationnummer/-naam',\n",
    "                                                                        'station_soort',\n",
    "                                                                        'Druk',\n",
    "                                                                        'station_status']]\n",
    "merge_net = merge[merge['station_status'] != 'In bedrijf'] # alleen de stations die in bedrijf zijn krijgen inspectie\n",
    "merge = merge[merge['station_status'] == 'In bedrijf']"
   ]
  },
  {
   "cell_type": "code",
   "execution_count": null,
   "metadata": {
    "collapsed": true
   },
   "outputs": [],
   "source": [
    "# maak mogelijkheden steeds kleiner door te filteren naar Type, Diameter, Druk en soort"
   ]
  },
  {
   "cell_type": "code",
   "execution_count": null,
   "metadata": {
    "collapsed": true
   },
   "outputs": [],
   "source": [
    "# AS en HAS met gekoppelde afsluiters\n",
    "\n",
    "scheidingsafsluiters = pd.DataFrame()\n",
    "scheidingsafsluiters.loc[:,'Huisaansluitset'] = merge[merge['station_soort'] == 'Huisaansluitset'].groupby('Functie').size()\n",
    "scheidingsafsluiters.loc[:,'Afleverstation'] = merge[merge['station_soort'] == 'Afleverstation'].groupby('Functie').size()\n",
    "scheidingsafsluiters"
   ]
  },
  {
   "cell_type": "code",
   "execution_count": null,
   "metadata": {
    "collapsed": true
   },
   "outputs": [],
   "source": [
    "merge[(merge['station_soort'] == 'Huisaansluitset') & (merge['Functie'] == 'Scheidingsafsluiter uitlaat')]"
   ]
  },
  {
   "cell_type": "code",
   "execution_count": null,
   "metadata": {
    "collapsed": true
   },
   "outputs": [],
   "source": [
    "# DS met hoge druk hoort inlaat te zijn en met lage druk uitlaat\n",
    "\n",
    "DS_afsluiters = pd.DataFrame()\n",
    "DS_afsluiters.loc[:,'LD'] = merge[(merge['station_soort'] == 'Districtstation') &\n",
    "                                  (merge['Druk'].str.contains('mbar'))].groupby('Functie').size()\n",
    "DS_afsluiters.loc[:,'HD'] = merge[(merge['station_soort'] == 'Districtstation') &\n",
    "                                  (merge['Druk'].str.contains(' bar'))].groupby('Functie').size()\n",
    "DS_afsluiters.fillna(0).astype(int)"
   ]
  },
  {
   "cell_type": "code",
   "execution_count": null,
   "metadata": {
    "collapsed": true
   },
   "outputs": [],
   "source": [
    "merge[(merge['station_soort'] == 'Districtstation') & (merge['Functie'] == 'Scheidingsafsluiter uitlaat') &\n",
    "      (merge['Druk'].isin(['1000', '2000', '3000', '4000', '8000']))]"
   ]
  },
  {
   "cell_type": "code",
   "execution_count": null,
   "metadata": {
    "collapsed": true
   },
   "outputs": [],
   "source": [
    "# zet de druk om naar mbar om zo hogere en lagere drukken gemakkelijker te vergelijken\n",
    "merge['Druk'] = merge['Druk'].replace('\\s', '', regex= True)\n",
    "merge['Druk'] = merge['Druk'].replace('mbar', '', regex= True)\n",
    "merge['Druk'] = merge['Druk'].replace('bar', '000', regex= True)\n",
    "groep = merge.groupby(['station_id'])['Functie', 'Druk', 'afsluiter_id'].agg(lambda x: list(x))"
   ]
  },
  {
   "cell_type": "code",
   "execution_count": null,
   "metadata": {
    "collapsed": true
   },
   "outputs": [],
   "source": [
    "[groep.iloc[x] for x in range(len(groep)) if len(groep.iloc[x].Functie) == 2][0].Druk"
   ]
  },
  {
   "cell_type": "code",
   "execution_count": null,
   "metadata": {
    "collapsed": true
   },
   "outputs": [],
   "source": [
    "# bij dezelfde OS is de hoge druk de inlaat en de lage druk de uitlaat\n",
    "merge[(merge['station_soort'] == 'Overslagstation')].groupby('Functie').size()\n",
    "\n",
    "merge[(merge['station_soort'] == 'Overslagstation')].groupby(['station_id','Druk'])['Functie'].apply(list)"
   ]
  },
  {
   "cell_type": "code",
   "execution_count": null,
   "metadata": {
    "collapsed": true
   },
   "outputs": [],
   "source": [
    "#from pandas import ExcelWriter\n",
    "#from pandas import ExcelFile\n",
    "#writer = ExcelWriter('Panda_export.xlsx')\n",
    "#merge_net.to_excel(writer,'Sheet1',index=False)\n",
    "#writer.save()"
   ]
  },
  {
   "cell_type": "code",
   "execution_count": null,
   "metadata": {
    "collapsed": true
   },
   "outputs": [],
   "source": [
    "# percentage stations met gekoppelde afsluiters # dit is lager vanwege alle buiten bedrijf stations die meetellen nu\n",
    "aantal_stations = stations.shape[0]\n",
    "aantal_stations_met_afsluiter = afsluiters[(afsluiters['G inlaat'].isin(stations['station_id'].tolist())) |\n",
    "                               (afsluiters['G uitlaat'].isin(stations['station_id'].tolist()))].shape[0]\n",
    "percentage_stations_met_afsluiters = 100 * aantal_stations_met_afsluiter / stations.shape[0]\n",
    "\n",
    "round(percentage_stations_met_afsluiters, 2)"
   ]
  },
  {
   "cell_type": "code",
   "execution_count": null,
   "metadata": {
    "collapsed": true
   },
   "outputs": [],
   "source": [
    "merge[(merge['station_status'] == 'In bedrijf') & (merge['station_soort'] == 'Ontvangstation') & (merge['Druk'] == '4 bar')].afsluiter_id.astype(int)"
   ]
  },
  {
   "cell_type": "code",
   "execution_count": null,
   "metadata": {
    "collapsed": true
   },
   "outputs": [],
   "source": [
    "# in bedrijf zijnde stations met gekoppelde afsluiters\n",
    "\n",
    "station_aantal = stations[stations['station_status'] == 'In bedrijf'].groupby('station_soort').nunique()['station_id']\n",
    "gekoppelde_aantal = merge[merge['station_status'] == 'In bedrijf'].groupby('station_soort').nunique()['station_id']\n",
    "\n",
    "koppeling = pd.DataFrame()\n",
    "koppeling.loc[:, 'Aantal stations'] = station_aantal\n",
    "koppeling.loc[:, 'Aantal gekoppelde stations'] = gekoppelde_aantal\n",
    "koppeling.loc[:, 'Percentage'] = round(100 * koppeling.loc[:, 'Aantal gekoppelde stations'] /\n",
    "                                       koppeling.loc[:, 'Aantal stations'], 1)\n",
    "koppeling"
   ]
  },
  {
   "cell_type": "code",
   "execution_count": null,
   "metadata": {
    "collapsed": true
   },
   "outputs": [],
   "source": [
    "AFS_dataframe = pd.DataFrame()\n",
    "\n",
    "# lagedrukinstallaties zijn stations, maar tellen niet als dusdanig mee\n",
    "LS_merge = merge[merge['station_soort'] == 'Lagedrukinstallatie']\n",
    "LS_HD = LS_merge[LS_merge['Druk'].str.contains(' bar')].shape[0]\n",
    "LS_LD = LS_merge[LS_merge['Druk'].str.contains('mbar')].shape[0]\n",
    "\n",
    "# Ontvangstation zijn stations, maar tellen niet als dusdanig mee\n",
    "GOS_merge = merge[merge['station_soort'] == 'Ontvangstation']\n",
    "GOS_HD = GOS_merge[GOS_merge['Druk'].str.contains(' bar')].shape[0]\n",
    "GOS_LD = GOS_merge[GOS_merge['Druk'].str.contains('mbar')].shape[0]\n",
    "\n",
    "LD_net_extra = merge_net['Druk'].str.contains('mbar').sum() # dit zijn de afsluiters gekoppeld met stations die niet in gebruik zijn\n",
    "HD_net_extra = merge_net['Druk'].str.contains(' bar').sum()\n",
    "\n",
    "AFS_dataframe.loc['HD', 'net'] = net_afsluiters[net_afsluiters['Druk'].str.contains(' bar')].count()[0] + LS_HD + GOS_HD + HD_net_extra\n",
    "AFS_dataframe.loc['LD', 'net'] = net_afsluiters[net_afsluiters['Druk'].str.contains('mbar')].count()[0] + LS_LD + GOS_LD + LD_net_extra\n",
    "\n",
    "DS_merge = merge[merge['station_soort'] == 'Districtstation']\n",
    "AFS_dataframe.loc['HD', 'DS'] = DS_merge[DS_merge['Druk'].str.contains(' bar')].shape[0]\n",
    "AFS_dataframe.loc['LD', 'DS'] = DS_merge[DS_merge['Druk'].str.contains('mbar')].shape[0]\n",
    "\n",
    "OS_merge = merge[merge['station_soort'] == 'Overslagstation']\n",
    "AFS_dataframe.loc['HD', 'OS'] = OS_merge[OS_merge['Druk'].str.contains(' bar')].shape[0]\n",
    "AFS_dataframe.loc['LD', 'OS'] = OS_merge[OS_merge['Druk'].str.contains('mbar')].shape[0]\n",
    "\n",
    "AS_merge = merge[merge['station_soort'] == 'Afleverstation']\n",
    "AFS_dataframe.loc['HD', 'AS'] = AS_merge[AS_merge['Druk'].str.contains(' bar')].shape[0]\n",
    "AFS_dataframe.loc['LD', 'AS'] = AS_merge[AS_merge['Druk'].str.contains('mbar')].shape[0]\n",
    "\n",
    "HAS_merge = merge[merge['station_soort'] == 'Huisaansluitset']\n",
    "AFS_dataframe.loc['HD', 'HAS'] = HAS_merge[HAS_merge['Druk'].str.contains(' bar')].shape[0]\n",
    "AFS_dataframe.loc['LD', 'HAS'] = HAS_merge[HAS_merge['Druk'].str.contains('mbar')].shape[0]\n",
    "\n",
    "AFS_dataframe.loc['HD', 'plug'] = plug_afsluiters[plug_afsluiters['Druk'].str.contains(' bar')].shape[0]\n",
    "AFS_dataframe.loc['LD', 'plug'] = plug_afsluiters[plug_afsluiters['Druk'].str.contains('mbar')].shape[0]\n",
    "\n",
    "AFS_dataframe['totaal'] = AFS_dataframe.sum(axis=1)"
   ]
  },
  {
   "cell_type": "code",
   "execution_count": null,
   "metadata": {
    "collapsed": true
   },
   "outputs": [],
   "source": [
    "AFS_dataframe"
   ]
  },
  {
   "cell_type": "code",
   "execution_count": null,
   "metadata": {
    "collapsed": true
   },
   "outputs": [],
   "source": [
    "afsluiters.shape[0], AFS_dataframe.totaal.sum()"
   ]
  },
  {
   "cell_type": "code",
   "execution_count": null,
   "metadata": {
    "collapsed": true
   },
   "outputs": [],
   "source": []
  }
 ],
 "metadata": {
  "kernelspec": {
   "display_name": "Python 3",
   "language": "python",
   "name": "python3"
  },
  "language_info": {
   "codemirror_mode": {
    "name": "ipython",
    "version": 3
   },
   "file_extension": ".py",
   "mimetype": "text/x-python",
   "name": "python",
   "nbconvert_exporter": "python",
   "pygments_lexer": "ipython3",
   "version": "3.6.3"
  }
 },
 "nbformat": 4,
 "nbformat_minor": 2
}
