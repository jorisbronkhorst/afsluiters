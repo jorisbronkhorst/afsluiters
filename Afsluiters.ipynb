{
 "cells": [
  {
   "cell_type": "code",
   "execution_count": 1,
   "metadata": {
    "collapsed": true
   },
   "outputs": [],
   "source": [
    "import pandas as pd\n",
    "import numpy as np\n",
    "import matplotlib.pyplot as plt\n",
    "from operator import itemgetter\n",
    "import datetime"
   ]
  },
  {
   "cell_type": "code",
   "execution_count": 3,
   "metadata": {},
   "outputs": [],
   "source": [
    "xls = pd.read_excel('Afsluiters_2018-02-13.xlsx', sheetname=None)\n",
    "xls_tabs = list(xls.keys())"
   ]
  },
  {
   "cell_type": "code",
   "execution_count": 4,
   "metadata": {},
   "outputs": [
    {
     "data": {
      "text/plain": [
       "['Blad1']"
      ]
     },
     "execution_count": 4,
     "metadata": {},
     "output_type": "execute_result"
    }
   ],
   "source": [
    "xls_tabs"
   ]
  },
  {
   "cell_type": "code",
   "execution_count": 5,
   "metadata": {
    "collapsed": true
   },
   "outputs": [],
   "source": [
    "g_afsluiter = xls['Blad1']"
   ]
  },
  {
   "cell_type": "code",
   "execution_count": 7,
   "metadata": {},
   "outputs": [
    {
     "data": {
      "text/plain": [
       "Index(['ESRI_ID', 'ASSET_NETWERK_NAAM', 'ASSET_NETWERK_ID', 'AANTAL_SLAGEN',\n",
       "       'BRON_ID', 'DIAMETER', 'DRAAIRICHTING', 'DRUK', 'FABRIKAAT', 'FUNCTIE',\n",
       "       'JAAR_VAN_EERSTE_AANLEG', 'LANGE_TERMIJN_DATUM', 'NUMMER',\n",
       "       'OPGETUIGD_JN', 'OPVOER_DATUM', 'PROJECTNUMMER', 'SOORT',\n",
       "       'SOORT_VERBINDING', 'STAND', 'STATUS_BEHEER', 'TEKENING_ID', 'TYPE',\n",
       "       'USER_ID', 'VOLLE_DOORLAAT_JN', 'WIJZIG_DATUM', 'IDENTIFICATIENUMMER',\n",
       "       'AFSTAND_TOT_STATION', 'OPNAME_LIGGING', 'MERIDIAN_URL', 'GELDIG_VAN',\n",
       "       'GELDIG_TOT', 'ACTUEEL', 'WORKFLOW_ID', 'PROCES_CODE', 'LAAD_DATUM'],\n",
       "      dtype='object')"
      ]
     },
     "execution_count": 7,
     "metadata": {},
     "output_type": "execute_result"
    }
   ],
   "source": [
    "g_afsluiter.columns"
   ]
  },
  {
   "cell_type": "code",
   "execution_count": 6,
   "metadata": {},
   "outputs": [
    {
     "ename": "KeyError",
     "evalue": "'Status'",
     "output_type": "error",
     "traceback": [
      "\u001b[1;31m---------------------------------------------------------------------------\u001b[0m",
      "\u001b[1;31mKeyError\u001b[0m                                  Traceback (most recent call last)",
      "\u001b[1;32m~\\AppData\\Local\\Continuum\\anaconda3\\lib\\site-packages\\pandas\\core\\indexes\\base.py\u001b[0m in \u001b[0;36mget_loc\u001b[1;34m(self, key, method, tolerance)\u001b[0m\n\u001b[0;32m   2441\u001b[0m             \u001b[1;32mtry\u001b[0m\u001b[1;33m:\u001b[0m\u001b[1;33m\u001b[0m\u001b[0m\n\u001b[1;32m-> 2442\u001b[1;33m                 \u001b[1;32mreturn\u001b[0m \u001b[0mself\u001b[0m\u001b[1;33m.\u001b[0m\u001b[0m_engine\u001b[0m\u001b[1;33m.\u001b[0m\u001b[0mget_loc\u001b[0m\u001b[1;33m(\u001b[0m\u001b[0mkey\u001b[0m\u001b[1;33m)\u001b[0m\u001b[1;33m\u001b[0m\u001b[0m\n\u001b[0m\u001b[0;32m   2443\u001b[0m             \u001b[1;32mexcept\u001b[0m \u001b[0mKeyError\u001b[0m\u001b[1;33m:\u001b[0m\u001b[1;33m\u001b[0m\u001b[0m\n",
      "\u001b[1;32mpandas\\_libs\\index.pyx\u001b[0m in \u001b[0;36mpandas._libs.index.IndexEngine.get_loc\u001b[1;34m()\u001b[0m\n",
      "\u001b[1;32mpandas\\_libs\\index.pyx\u001b[0m in \u001b[0;36mpandas._libs.index.IndexEngine.get_loc\u001b[1;34m()\u001b[0m\n",
      "\u001b[1;32mpandas\\_libs\\hashtable_class_helper.pxi\u001b[0m in \u001b[0;36mpandas._libs.hashtable.PyObjectHashTable.get_item\u001b[1;34m()\u001b[0m\n",
      "\u001b[1;32mpandas\\_libs\\hashtable_class_helper.pxi\u001b[0m in \u001b[0;36mpandas._libs.hashtable.PyObjectHashTable.get_item\u001b[1;34m()\u001b[0m\n",
      "\u001b[1;31mKeyError\u001b[0m: 'Status'",
      "\nDuring handling of the above exception, another exception occurred:\n",
      "\u001b[1;31mKeyError\u001b[0m                                  Traceback (most recent call last)",
      "\u001b[1;32m<ipython-input-6-ec1b6cfe4016>\u001b[0m in \u001b[0;36m<module>\u001b[1;34m()\u001b[0m\n\u001b[1;32m----> 1\u001b[1;33m \u001b[0mg_afsluiter\u001b[0m \u001b[1;33m=\u001b[0m \u001b[0mg_afsluiter\u001b[0m\u001b[1;33m[\u001b[0m\u001b[0mg_afsluiter\u001b[0m\u001b[1;33m[\u001b[0m\u001b[1;34m'Status'\u001b[0m\u001b[1;33m]\u001b[0m \u001b[1;33m==\u001b[0m \u001b[1;34m'In bedrijf'\u001b[0m\u001b[1;33m]\u001b[0m\u001b[1;33m\u001b[0m\u001b[0m\n\u001b[0m\u001b[0;32m      2\u001b[0m \u001b[0mg_afsluiter\u001b[0m \u001b[1;33m=\u001b[0m \u001b[0mg_afsluiter\u001b[0m\u001b[1;33m.\u001b[0m\u001b[0mfillna\u001b[0m\u001b[1;33m(\u001b[0m\u001b[1;34m'Onbekend'\u001b[0m\u001b[1;33m)\u001b[0m\u001b[1;33m\u001b[0m\u001b[0m\n",
      "\u001b[1;32m~\\AppData\\Local\\Continuum\\anaconda3\\lib\\site-packages\\pandas\\core\\frame.py\u001b[0m in \u001b[0;36m__getitem__\u001b[1;34m(self, key)\u001b[0m\n\u001b[0;32m   1962\u001b[0m             \u001b[1;32mreturn\u001b[0m \u001b[0mself\u001b[0m\u001b[1;33m.\u001b[0m\u001b[0m_getitem_multilevel\u001b[0m\u001b[1;33m(\u001b[0m\u001b[0mkey\u001b[0m\u001b[1;33m)\u001b[0m\u001b[1;33m\u001b[0m\u001b[0m\n\u001b[0;32m   1963\u001b[0m         \u001b[1;32melse\u001b[0m\u001b[1;33m:\u001b[0m\u001b[1;33m\u001b[0m\u001b[0m\n\u001b[1;32m-> 1964\u001b[1;33m             \u001b[1;32mreturn\u001b[0m \u001b[0mself\u001b[0m\u001b[1;33m.\u001b[0m\u001b[0m_getitem_column\u001b[0m\u001b[1;33m(\u001b[0m\u001b[0mkey\u001b[0m\u001b[1;33m)\u001b[0m\u001b[1;33m\u001b[0m\u001b[0m\n\u001b[0m\u001b[0;32m   1965\u001b[0m \u001b[1;33m\u001b[0m\u001b[0m\n\u001b[0;32m   1966\u001b[0m     \u001b[1;32mdef\u001b[0m \u001b[0m_getitem_column\u001b[0m\u001b[1;33m(\u001b[0m\u001b[0mself\u001b[0m\u001b[1;33m,\u001b[0m \u001b[0mkey\u001b[0m\u001b[1;33m)\u001b[0m\u001b[1;33m:\u001b[0m\u001b[1;33m\u001b[0m\u001b[0m\n",
      "\u001b[1;32m~\\AppData\\Local\\Continuum\\anaconda3\\lib\\site-packages\\pandas\\core\\frame.py\u001b[0m in \u001b[0;36m_getitem_column\u001b[1;34m(self, key)\u001b[0m\n\u001b[0;32m   1969\u001b[0m         \u001b[1;31m# get column\u001b[0m\u001b[1;33m\u001b[0m\u001b[1;33m\u001b[0m\u001b[0m\n\u001b[0;32m   1970\u001b[0m         \u001b[1;32mif\u001b[0m \u001b[0mself\u001b[0m\u001b[1;33m.\u001b[0m\u001b[0mcolumns\u001b[0m\u001b[1;33m.\u001b[0m\u001b[0mis_unique\u001b[0m\u001b[1;33m:\u001b[0m\u001b[1;33m\u001b[0m\u001b[0m\n\u001b[1;32m-> 1971\u001b[1;33m             \u001b[1;32mreturn\u001b[0m \u001b[0mself\u001b[0m\u001b[1;33m.\u001b[0m\u001b[0m_get_item_cache\u001b[0m\u001b[1;33m(\u001b[0m\u001b[0mkey\u001b[0m\u001b[1;33m)\u001b[0m\u001b[1;33m\u001b[0m\u001b[0m\n\u001b[0m\u001b[0;32m   1972\u001b[0m \u001b[1;33m\u001b[0m\u001b[0m\n\u001b[0;32m   1973\u001b[0m         \u001b[1;31m# duplicate columns & possible reduce dimensionality\u001b[0m\u001b[1;33m\u001b[0m\u001b[1;33m\u001b[0m\u001b[0m\n",
      "\u001b[1;32m~\\AppData\\Local\\Continuum\\anaconda3\\lib\\site-packages\\pandas\\core\\generic.py\u001b[0m in \u001b[0;36m_get_item_cache\u001b[1;34m(self, item)\u001b[0m\n\u001b[0;32m   1643\u001b[0m         \u001b[0mres\u001b[0m \u001b[1;33m=\u001b[0m \u001b[0mcache\u001b[0m\u001b[1;33m.\u001b[0m\u001b[0mget\u001b[0m\u001b[1;33m(\u001b[0m\u001b[0mitem\u001b[0m\u001b[1;33m)\u001b[0m\u001b[1;33m\u001b[0m\u001b[0m\n\u001b[0;32m   1644\u001b[0m         \u001b[1;32mif\u001b[0m \u001b[0mres\u001b[0m \u001b[1;32mis\u001b[0m \u001b[1;32mNone\u001b[0m\u001b[1;33m:\u001b[0m\u001b[1;33m\u001b[0m\u001b[0m\n\u001b[1;32m-> 1645\u001b[1;33m             \u001b[0mvalues\u001b[0m \u001b[1;33m=\u001b[0m \u001b[0mself\u001b[0m\u001b[1;33m.\u001b[0m\u001b[0m_data\u001b[0m\u001b[1;33m.\u001b[0m\u001b[0mget\u001b[0m\u001b[1;33m(\u001b[0m\u001b[0mitem\u001b[0m\u001b[1;33m)\u001b[0m\u001b[1;33m\u001b[0m\u001b[0m\n\u001b[0m\u001b[0;32m   1646\u001b[0m             \u001b[0mres\u001b[0m \u001b[1;33m=\u001b[0m \u001b[0mself\u001b[0m\u001b[1;33m.\u001b[0m\u001b[0m_box_item_values\u001b[0m\u001b[1;33m(\u001b[0m\u001b[0mitem\u001b[0m\u001b[1;33m,\u001b[0m \u001b[0mvalues\u001b[0m\u001b[1;33m)\u001b[0m\u001b[1;33m\u001b[0m\u001b[0m\n\u001b[0;32m   1647\u001b[0m             \u001b[0mcache\u001b[0m\u001b[1;33m[\u001b[0m\u001b[0mitem\u001b[0m\u001b[1;33m]\u001b[0m \u001b[1;33m=\u001b[0m \u001b[0mres\u001b[0m\u001b[1;33m\u001b[0m\u001b[0m\n",
      "\u001b[1;32m~\\AppData\\Local\\Continuum\\anaconda3\\lib\\site-packages\\pandas\\core\\internals.py\u001b[0m in \u001b[0;36mget\u001b[1;34m(self, item, fastpath)\u001b[0m\n\u001b[0;32m   3588\u001b[0m \u001b[1;33m\u001b[0m\u001b[0m\n\u001b[0;32m   3589\u001b[0m             \u001b[1;32mif\u001b[0m \u001b[1;32mnot\u001b[0m \u001b[0misnull\u001b[0m\u001b[1;33m(\u001b[0m\u001b[0mitem\u001b[0m\u001b[1;33m)\u001b[0m\u001b[1;33m:\u001b[0m\u001b[1;33m\u001b[0m\u001b[0m\n\u001b[1;32m-> 3590\u001b[1;33m                 \u001b[0mloc\u001b[0m \u001b[1;33m=\u001b[0m \u001b[0mself\u001b[0m\u001b[1;33m.\u001b[0m\u001b[0mitems\u001b[0m\u001b[1;33m.\u001b[0m\u001b[0mget_loc\u001b[0m\u001b[1;33m(\u001b[0m\u001b[0mitem\u001b[0m\u001b[1;33m)\u001b[0m\u001b[1;33m\u001b[0m\u001b[0m\n\u001b[0m\u001b[0;32m   3591\u001b[0m             \u001b[1;32melse\u001b[0m\u001b[1;33m:\u001b[0m\u001b[1;33m\u001b[0m\u001b[0m\n\u001b[0;32m   3592\u001b[0m                 \u001b[0mindexer\u001b[0m \u001b[1;33m=\u001b[0m \u001b[0mnp\u001b[0m\u001b[1;33m.\u001b[0m\u001b[0marange\u001b[0m\u001b[1;33m(\u001b[0m\u001b[0mlen\u001b[0m\u001b[1;33m(\u001b[0m\u001b[0mself\u001b[0m\u001b[1;33m.\u001b[0m\u001b[0mitems\u001b[0m\u001b[1;33m)\u001b[0m\u001b[1;33m)\u001b[0m\u001b[1;33m[\u001b[0m\u001b[0misnull\u001b[0m\u001b[1;33m(\u001b[0m\u001b[0mself\u001b[0m\u001b[1;33m.\u001b[0m\u001b[0mitems\u001b[0m\u001b[1;33m)\u001b[0m\u001b[1;33m]\u001b[0m\u001b[1;33m\u001b[0m\u001b[0m\n",
      "\u001b[1;32m~\\AppData\\Local\\Continuum\\anaconda3\\lib\\site-packages\\pandas\\core\\indexes\\base.py\u001b[0m in \u001b[0;36mget_loc\u001b[1;34m(self, key, method, tolerance)\u001b[0m\n\u001b[0;32m   2442\u001b[0m                 \u001b[1;32mreturn\u001b[0m \u001b[0mself\u001b[0m\u001b[1;33m.\u001b[0m\u001b[0m_engine\u001b[0m\u001b[1;33m.\u001b[0m\u001b[0mget_loc\u001b[0m\u001b[1;33m(\u001b[0m\u001b[0mkey\u001b[0m\u001b[1;33m)\u001b[0m\u001b[1;33m\u001b[0m\u001b[0m\n\u001b[0;32m   2443\u001b[0m             \u001b[1;32mexcept\u001b[0m \u001b[0mKeyError\u001b[0m\u001b[1;33m:\u001b[0m\u001b[1;33m\u001b[0m\u001b[0m\n\u001b[1;32m-> 2444\u001b[1;33m                 \u001b[1;32mreturn\u001b[0m \u001b[0mself\u001b[0m\u001b[1;33m.\u001b[0m\u001b[0m_engine\u001b[0m\u001b[1;33m.\u001b[0m\u001b[0mget_loc\u001b[0m\u001b[1;33m(\u001b[0m\u001b[0mself\u001b[0m\u001b[1;33m.\u001b[0m\u001b[0m_maybe_cast_indexer\u001b[0m\u001b[1;33m(\u001b[0m\u001b[0mkey\u001b[0m\u001b[1;33m)\u001b[0m\u001b[1;33m)\u001b[0m\u001b[1;33m\u001b[0m\u001b[0m\n\u001b[0m\u001b[0;32m   2445\u001b[0m \u001b[1;33m\u001b[0m\u001b[0m\n\u001b[0;32m   2446\u001b[0m         \u001b[0mindexer\u001b[0m \u001b[1;33m=\u001b[0m \u001b[0mself\u001b[0m\u001b[1;33m.\u001b[0m\u001b[0mget_indexer\u001b[0m\u001b[1;33m(\u001b[0m\u001b[1;33m[\u001b[0m\u001b[0mkey\u001b[0m\u001b[1;33m]\u001b[0m\u001b[1;33m,\u001b[0m \u001b[0mmethod\u001b[0m\u001b[1;33m=\u001b[0m\u001b[0mmethod\u001b[0m\u001b[1;33m,\u001b[0m \u001b[0mtolerance\u001b[0m\u001b[1;33m=\u001b[0m\u001b[0mtolerance\u001b[0m\u001b[1;33m)\u001b[0m\u001b[1;33m\u001b[0m\u001b[0m\n",
      "\u001b[1;32mpandas\\_libs\\index.pyx\u001b[0m in \u001b[0;36mpandas._libs.index.IndexEngine.get_loc\u001b[1;34m()\u001b[0m\n",
      "\u001b[1;32mpandas\\_libs\\index.pyx\u001b[0m in \u001b[0;36mpandas._libs.index.IndexEngine.get_loc\u001b[1;34m()\u001b[0m\n",
      "\u001b[1;32mpandas\\_libs\\hashtable_class_helper.pxi\u001b[0m in \u001b[0;36mpandas._libs.hashtable.PyObjectHashTable.get_item\u001b[1;34m()\u001b[0m\n",
      "\u001b[1;32mpandas\\_libs\\hashtable_class_helper.pxi\u001b[0m in \u001b[0;36mpandas._libs.hashtable.PyObjectHashTable.get_item\u001b[1;34m()\u001b[0m\n",
      "\u001b[1;31mKeyError\u001b[0m: 'Status'"
     ]
    }
   ],
   "source": [
    "g_afsluiter = g_afsluiter[g_afsluiter['Status'] == 'In bedrijf']\n",
    "g_afsluiter = g_afsluiter.fillna('Onbekend')"
   ]
  },
  {
   "cell_type": "code",
   "execution_count": null,
   "metadata": {
    "collapsed": true
   },
   "outputs": [],
   "source": [
    "# geef de grenzen aan voor de startkwalificaties\n",
    "\n",
    "# nieuw:     0 t/m 5 jaar\n",
    "# goed:      6 t/m 20 jaar\n",
    "# voldoende: 21 t/m 40 jaar\n",
    "# matig:     ouder dan 40 jaar\n",
    "\n",
    "kwalificatiejaren = [5, 20, 40]\n",
    "\n",
    "huidig_jaar = datetime.datetime.now().year\n",
    "\n",
    "# bereken de jaren die onder een bepaalde specificatie vallen\n",
    "jaren_in_df = g_afsluiter['Jaar van eerste aanleg'].unique()\n",
    "\n",
    "jaren_nieuw = [x for x in np.arange(huidig_jaar - kwalificatiejaren[0],\n",
    "                                    huidig_jaar + 1) if x in jaren_in_df]\n",
    "\n",
    "jaren_goed = [x for x in np.arange(huidig_jaar - kwalificatiejaren[1],\n",
    "                                   huidig_jaar - kwalificatiejaren[0]) if x in jaren_in_df]\n",
    "\n",
    "jaren_voldoende = [x for x in np.arange(huidig_jaar - kwalificatiejaren[2],\n",
    "                                        huidig_jaar - kwalificatiejaren[1]) if x in jaren_in_df]\n",
    "\n",
    "jaren_matig = [x for x in np.arange(1800, huidig_jaar - kwalificatiejaren[2]) if x in jaren_in_df]"
   ]
  },
  {
   "cell_type": "code",
   "execution_count": null,
   "metadata": {
    "collapsed": true
   },
   "outputs": [],
   "source": [
    "def toekennen_startkwalificaties(dataframe, jaren_nieuw, jaren_goed, jaren_voldoende, jaren_matig):\n",
    "\n",
    "    # toekennen van de startkwalificatie bij elke afsluiter\n",
    "    voorwaarden = [(dataframe['Jaar van eerste aanleg'].isin(jaren_nieuw)),\n",
    "                   (dataframe['Jaar van eerste aanleg'].isin(jaren_goed)),\n",
    "                   (dataframe['Jaar van eerste aanleg'].isin(jaren_voldoende)),\n",
    "                   (dataframe['Jaar van eerste aanleg'].isin(jaren_matig))]\n",
    "\n",
    "    startkwalificaties = ['nieuw', 'goed', 'voldoende', 'matig']\n",
    "\n",
    "    dataframe['startkwalificatie'] = np.select(voorwaarden, startkwalificaties)\n",
    "    \n",
    "    return dataframe"
   ]
  },
  {
   "cell_type": "code",
   "execution_count": null,
   "metadata": {
    "collapsed": true
   },
   "outputs": [],
   "source": [
    "g_afsluiter = toekennen_startkwalificaties(g_afsluiter, jaren_nieuw, jaren_goed, jaren_voldoende, jaren_matig)"
   ]
  },
  {
   "cell_type": "code",
   "execution_count": null,
   "metadata": {
    "collapsed": true
   },
   "outputs": [],
   "source": [
    "def plot_aantallen_per_jaar(dataframe, jaren_nieuw, jaren_goed, jaren_voldoende, jaren_matig):    \n",
    "    \n",
    "    fontsize = 14\n",
    "    \n",
    "    jaar_df = pd.DataFrame(dataframe.groupby(['Jaar van eerste aanleg']).size())\n",
    "    jaar_df.index = jaar_df.index.astype(int)\n",
    "    jaar_df = jaar_df.rename(columns={0: 'aantal'})\n",
    "    \n",
    "    startkwalificatie_aantallen = g_afsluiter.groupby('startkwalificatie').size()\n",
    "    \n",
    "    ax = jaar_df.plot(kind='bar', figsize=(20, 10), fontsize=fontsize, color = 'blue', legend=False)\n",
    "\n",
    "    for i in range(len(jaar_df)):\n",
    "        if i < len(jaren_matig):\n",
    "            ax.patches[i].set_facecolor('red')\n",
    "        if len(jaren_matig) <= i < len(jaren_matig) + len(jaren_voldoende):\n",
    "            ax.patches[i].set_facecolor('orange')\n",
    "        if len(jaren_matig) + len(jaren_voldoende) <= i < len(jaren_matig) + len(jaren_voldoende) + len(jaren_goed):\n",
    "            ax.patches[i].set_facecolor('green')\n",
    "                      \n",
    "    plt.title('Totaal aantal afsluiters in gebruik per jaar van aanleg in 2018', fontsize=fontsize+2)\n",
    "    plt.grid(axis='y')\n",
    "    plt.xlabel('Jaar' ,fontsize=fontsize)\n",
    "    plt.ylabel('aantal', fontsize=fontsize)\n",
    "\n",
    "    plt.axvline(x=len(jaren_matig) - 0.75, color='black', linestyle='--')\n",
    "    plt.axvline(x=len(jaren_matig)+len(jaren_voldoende) - 0.75, color='black', linestyle='--')\n",
    "    plt.axvline(x=len(jaren_matig)+len(jaren_voldoende)+len(jaren_goed) - 0.75, color='black', linestyle='--')\n",
    "\n",
    "    plt.text(len(jaren_matig)/2 - 3, max(jaar_df.aantal)*0.95, ' matig\\n '+ str(startkwalificatie_aantallen['matig']),\n",
    "             fontsize=fontsize+2, color='red')\n",
    "    plt.text(len(jaren_matig) + 5, max(jaar_df.aantal)*0.95, 'voldoende\\n '+ str(startkwalificatie_aantallen['voldoende']),\n",
    "             fontsize=fontsize+2, color='orange')\n",
    "    plt.text(len(jaren_matig)+len(jaren_voldoende) + 5, max(jaar_df.aantal)*0.95, 'goed\\n '+ str(startkwalificatie_aantallen['goed']),\n",
    "             fontsize=fontsize+2, color='green')\n",
    "    plt.text(len(jaren_matig)+len(jaren_voldoende)+len(jaren_goed), max(jaar_df.aantal)*0.95, 'nieuw\\n '+ str(startkwalificatie_aantallen['nieuw']),\n",
    "             fontsize=fontsize+2, color='blue')\n",
    "\n",
    "    return plt.show()"
   ]
  },
  {
   "cell_type": "code",
   "execution_count": null,
   "metadata": {},
   "outputs": [],
   "source": [
    "plot_aantallen_per_jaar(g_afsluiter, jaren_nieuw, jaren_goed, jaren_voldoende, jaren_matig)"
   ]
  },
  {
   "cell_type": "code",
   "execution_count": null,
   "metadata": {
    "collapsed": true
   },
   "outputs": [],
   "source": [
    "def toestandsbepaling(dataframe, eigenschap, kwalificatie):\n",
    "    \n",
    "    # groepeer per eigenschap\n",
    "    per_eigenschap = pd.DataFrame(dataframe.groupby([eigenschap, kwalificatie]).size())\n",
    "    per_eigenschap = per_eigenschap.rename(columns={0: 'aantal'})\n",
    "    \n",
    "    # unstack de dataframe en verander ontbrekende waarden in nullen\n",
    "    per_eigenschap_unstack = per_eigenschap['aantal'].unstack(level=1).fillna(0)\n",
    "    \n",
    "    # verander de volgorde van de kolommen\n",
    "    per_eigenschap_unstack = per_eigenschap_unstack[['nieuw', 'goed', 'voldoende', 'matig']]\n",
    "    \n",
    "    # bereken het totaal per eigenschap uit en zet dat in nieuwe kolom 'totaal'\n",
    "    per_eigenschap_unstack['totaal'] = per_eigenschap_unstack.sum(axis=1)\n",
    "    \n",
    "    # sorteer op basis van het totaal aantal per eigenschap\n",
    "    per_eigenschap_unstack = per_eigenschap_unstack.sort_values(['totaal'])\n",
    "\n",
    "    # maak een dataframe met percentage bij bepaalde kwalificatie hoort\n",
    "    per_eigenschap_unstack_relatief = per_eigenschap_unstack.div(0.01 * per_eigenschap_unstack.totaal, axis='index').iloc[:,:-1]\n",
    "\n",
    "    # plot het resultaat\n",
    "    fontsize = 14\n",
    "    per_eigenschap_unstack_relatief.plot(kind = 'barh', figsize=(20, 10), stacked=True,\n",
    "                                    fontsize=fontsize, color = ['blue','green','orange','red'])\n",
    "    \n",
    "    plt.xlabel('Aantal afsluiters (%)', fontsize=fontsize+2)\n",
    "    plt.ylabel(eigenschap, fontsize=fontsize+2)\n",
    "    plt.title('Toestandsbepaling afsluiters per eigenschap 2018', fontsize=fontsize+2)\n",
    "\n",
    "    for i in range(len(per_eigenschap_unstack_relatief)):\n",
    "        plt.text(100.5, i-0.1, str(int(per_eigenschap_unstack.iloc[i]['totaal'])), fontsize=fontsize)\n",
    "\n",
    "    plt.legend(loc=8, bbox_to_anchor=(0.5,-0.15), fontsize=fontsize, ncol=4)\n",
    "    \n",
    "    return plt.show()"
   ]
  },
  {
   "cell_type": "code",
   "execution_count": null,
   "metadata": {},
   "outputs": [],
   "source": [
    "toestandsbepaling(g_afsluiter, 'Soort', 'startkwalificatie')"
   ]
  },
  {
   "cell_type": "code",
   "execution_count": null,
   "metadata": {
    "collapsed": true
   },
   "outputs": [],
   "source": [
    "def kwalificatie_aanpassing_door_onbekende_eigenschap(dataframe, eigenschap):\n",
    "    \n",
    "    ''' Voeg nieuwe kolom toe genaamd kwalificatie, dat een aanpassing is op de startkwalificatie'''\n",
    "    \n",
    "    voorwaarden = [ dataframe[eigenschap].str.contains('Onbekend') == False,\n",
    "                   (dataframe[eigenschap].str.contains('Onbekend')) & (dataframe['startkwalificatie'] == 'nieuw'),\n",
    "                   (dataframe[eigenschap].str.contains('Onbekend')) & (dataframe['startkwalificatie'] == 'goed'),\n",
    "                   (dataframe[eigenschap].str.contains('Onbekend')) & (dataframe['startkwalificatie'] == 'voldoende'),\n",
    "                   (dataframe[eigenschap].str.contains('Onbekend')) & (dataframe['startkwalificatie'] == 'matig')]\n",
    "\n",
    "    nieuwe_kwalificaties = [dataframe['startkwalificatie'], 'goed', 'voldoende', 'matig', 'matig']\n",
    "\n",
    "    dataframe['kwalificatie'] = np.select(voorwaarden, nieuwe_kwalificaties)\n",
    "    \n",
    "    return dataframe"
   ]
  },
  {
   "cell_type": "code",
   "execution_count": null,
   "metadata": {
    "collapsed": true
   },
   "outputs": [],
   "source": [
    "g_afsluiter = kwalificatie_aanpassing_door_onbekende_eigenschap(g_afsluiter, 'G afsluiter type')"
   ]
  },
  {
   "cell_type": "code",
   "execution_count": null,
   "metadata": {
    "scrolled": false
   },
   "outputs": [],
   "source": [
    "toestandsbepaling(g_afsluiter, 'Soort', 'kwalificatie')"
   ]
  },
  {
   "cell_type": "code",
   "execution_count": null,
   "metadata": {},
   "outputs": [],
   "source": [
    "g_afsluiter.columns"
   ]
  },
  {
   "cell_type": "code",
   "execution_count": null,
   "metadata": {},
   "outputs": [],
   "source": [
    "g_afsluiter.groupby('Jaar van eerste aanleg').size().tail()"
   ]
  },
  {
   "cell_type": "code",
   "execution_count": null,
   "metadata": {
    "collapsed": true,
    "scrolled": false
   },
   "outputs": [],
   "source": [
    "\n",
    "# kenmerken afsluiter is weergegeven met: Functie|Fabrikaat|Soort|Type\n",
    "\n",
    "# bekijk per jaar van hoeveel afsluiters alles bekend is en hoeveel er ontbrekende data hebben\n",
    "\n",
    "bekend = g_afsluiter[g_afsluiter['G afsluiter type'].str.contains('Onbekend') == False]\n",
    "onbekend = g_afsluiter[g_afsluiter['G afsluiter type'].str.contains('Onbekend')]\n",
    "\n",
    "bekend_per_jaar = pd.DataFrame(bekend.groupby('Jaar van eerste aanleg')['G afsluiter type'].count())\n",
    "bekend_per_jaar = bekend_per_jaar.rename(columns={'G afsluiter type': 'bekende afsluiters'})\n",
    "\n",
    "onbekend_per_jaar = pd.DataFrame(onbekend.groupby('Jaar van eerste aanleg')['G afsluiter type'].count())\n",
    "onbekend_per_jaar = onbekend_per_jaar.rename(columns={'G afsluiter type': 'onbekende afsluiters'})\n",
    "\n",
    "df_concat = pd.concat([bekend_per_jaar, onbekend_per_jaar], axis=1).fillna(0)\n",
    "\n",
    "#fontsize = 14\n",
    "#df_concat.plot(kind='bar', figsize=(20, 10), fontsize=fontsize, color=['green', 'red'])\n",
    "#plt.title('Kennis afsluiters per jaar van aanleg', fontsize=fontsize)\n",
    "#plt.grid(axis='y')\n",
    "#plt.xlabel('Jaartal', fontsize=fontsize)\n",
    "#plt.ylabel('Aantal', fontsize=fontsize)\n",
    "#plt.legend(loc=8, bbox_to_anchor=(0.8,0.93), fontsize=fontsize, ncol=2)\n",
    "#plt.show()"
   ]
  },
  {
   "cell_type": "code",
   "execution_count": null,
   "metadata": {
    "collapsed": true
   },
   "outputs": [],
   "source": [
    "# kijken welke eigenschappen het vaakst ontbreken\n",
    "\n",
    "def tel_bekendheid(df, eigenschap):\n",
    "    onbekenden = df[eigenschap].str.contains('Onbekend').sum()\n",
    "    bekenden = df[eigenschap].count() - onbekenden\n",
    "    return bekenden, onbekenden\n",
    "\n",
    "df_onbekenden = pd.DataFrame(index=['bekenden', 'onbekenden'], columns=['Type', 'Soort', 'Fabrikaat', 'Functie'])\n",
    "\n",
    "for eigenschap in df_onbekenden.columns.values:\n",
    "    df_onbekenden[eigenschap] = tel_bekendheid(g_afsluiter, eigenschap)"
   ]
  },
  {
   "cell_type": "code",
   "execution_count": null,
   "metadata": {},
   "outputs": [],
   "source": [
    "df_onbekenden"
   ]
  },
  {
   "cell_type": "code",
   "execution_count": null,
   "metadata": {
    "collapsed": true
   },
   "outputs": [],
   "source": [
    "# verlaag de kwalificatie als er onbekende data voor die afsluiter is\n",
    "\n",
    "voorwaarden_2 = [ g_afsluiter['G afsluiter type'].str.contains('Onbekend') == False,\n",
    "                 (g_afsluiter['G afsluiter type'].str.contains('Onbekend')) & (g_afsluiter['startkwalificatie'] == 'nieuw'),\n",
    "                 (g_afsluiter['G afsluiter type'].str.contains('Onbekend')) & (g_afsluiter['startkwalificatie'] == 'goed'),\n",
    "                 (g_afsluiter['G afsluiter type'].str.contains('Onbekend')) & (g_afsluiter['startkwalificatie'] == 'voldoende'),\n",
    "                 (g_afsluiter['G afsluiter type'].str.contains('Onbekend')) & (g_afsluiter['startkwalificatie'] == 'matig')]\n",
    "\n",
    "nieuwe_kwalificaties = [g_afsluiter['startkwalificatie'], 'goed', 'voldoende', 'matig', 'matig']\n",
    "\n",
    "g_afsluiter['kwalificatie'] = np.select(voorwaarden_2, nieuwe_kwalificaties)"
   ]
  },
  {
   "cell_type": "code",
   "execution_count": null,
   "metadata": {},
   "outputs": [],
   "source": [
    "# overzicht van de kwalificaties\n",
    "\n",
    "kwalificaties = pd.DataFrame(index=['nieuw', 'goed', 'matig', 'voldoende'], columns=['startkwalificatie', 'kwalificatie'])\n",
    "kwalificaties['startkwalificatie'] = g_afsluiter.groupby(['startkwalificatie']).size()\n",
    "kwalificaties['kwalificatie'] = g_afsluiter.groupby(['kwalificatie']).size()\n",
    "kwalificaties"
   ]
  },
  {
   "cell_type": "code",
   "execution_count": null,
   "metadata": {},
   "outputs": [],
   "source": [
    "toestandsbepaling(g_afsluiter, 'Soort', 'kwalificatie')"
   ]
  },
  {
   "cell_type": "code",
   "execution_count": null,
   "metadata": {
    "collapsed": true
   },
   "outputs": [],
   "source": [
    "# data verrijking probeersels\n",
    "\n",
    "# kijken wanneer een onbekend fabrikaat er slechts 1 kan zijn afgeleid uit de andere gegevens\n",
    "type_en_soort_bekend = g_afsluiter[(g_afsluiter['Type'] != 'Onbekend') & (g_afsluiter['Soort'] != 'Onbekend')]\n",
    "df = type_en_soort_bekend.groupby(['Type', 'Soort', 'Diameter'])['Fabrikaat'].agg(['unique', 'nunique', 'size'])\n",
    "\n",
    "df3 = type_en_soort_bekend.groupby(['Type', 'Soort', 'Diameter', 'Fabrikaat']).size()\n",
    "df3 = pd.DataFrame(df3)\n",
    "df3 = df3.rename(columns={0: 'Aantal'})\n",
    "\n",
    "g_afsluiter_8bar = g_afsluiter[g_afsluiter['Druk'] == '8 bar']\n",
    "\n",
    "afsluiters_groepen = pd.DataFrame(g_afsluiter_8bar.groupby(['Diameter', 'Fabrikaat']).size())\n",
    "afsluiters_groepen = afsluiters_groepen.rename(columns={0: 'Aantal'})\n",
    "\n",
    "df3"
   ]
  },
  {
   "cell_type": "code",
   "execution_count": null,
   "metadata": {
    "collapsed": true
   },
   "outputs": [],
   "source": []
  }
 ],
 "metadata": {
  "kernelspec": {
   "display_name": "Python 3",
   "language": "python",
   "name": "python3"
  },
  "language_info": {
   "codemirror_mode": {
    "name": "ipython",
    "version": 3
   },
   "file_extension": ".py",
   "mimetype": "text/x-python",
   "name": "python",
   "nbconvert_exporter": "python",
   "pygments_lexer": "ipython3",
   "version": "3.6.3"
  }
 },
 "nbformat": 4,
 "nbformat_minor": 2
}
