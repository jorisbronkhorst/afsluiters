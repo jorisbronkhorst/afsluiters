{
 "cells": [
  {
   "cell_type": "code",
   "execution_count": 1,
   "metadata": {
    "collapsed": true
   },
   "outputs": [],
   "source": [
    "import pandas as pd\n",
    "import numpy as np"
   ]
  },
  {
   "cell_type": "code",
   "execution_count": 2,
   "metadata": {
    "collapsed": true
   },
   "outputs": [],
   "source": [
    "AFS = pd.read_excel('AFS_in_bedrijf_24_04_2018.xlsx', sheetname=None)"
   ]
  },
  {
   "cell_type": "code",
   "execution_count": 3,
   "metadata": {
    "collapsed": true
   },
   "outputs": [],
   "source": [
    "S = pd.read_excel('S_24_04_2018.xlsx', sheetname=None)"
   ]
  },
  {
   "cell_type": "code",
   "execution_count": 4,
   "metadata": {
    "collapsed": true
   },
   "outputs": [],
   "source": [
    "stations = S['G station']\n",
    "stations = stations.fillna('Leeg')\n",
    "#stations = stations[stations['Status'] == 'In bedrijf'] # soms zijn afsluiters nog gekoppeld aan stations buiten bedrijf\n",
    "stations = stations.rename(columns = {'Id' : 'station_id'})\n",
    "stations = stations.rename(columns = {'Soort' : 'station_soort'})\n",
    "stations = stations.rename(columns = {'Status' : 'station_status'})"
   ]
  },
  {
   "cell_type": "code",
   "execution_count": 13,
   "metadata": {
    "collapsed": true
   },
   "outputs": [],
   "source": [
    "afsluiters = AFS['G afsluiter']\n",
    "afsluiters = afsluiters.fillna('Leeg')\n",
    "#afsluiters = afsluiters[afsluiters['Jaar van eerste aanleg'] == 2017]\n",
    "#afsluiters = afsluiters[afsluiters['Opgetuigd J/N'] == 'Ja']\n",
    "afsluiters['G inlaat'] = afsluiters['G inlaat'].replace(0.0, 'Leeg') # een 0.0 station ID wordt als net_afsluiter beschouwd\n",
    "afsluiters['G uitlaat'] = afsluiters['G uitlaat'].replace(0.0, 'Leeg') # een 0.0 station ID wordt als net_afsluiter beschouwd\n",
    "afsluiters = afsluiters.rename(columns = {'Id' : 'afsluiter_id'})\n",
    "afsluiters = afsluiters.rename(columns = {'Soort' : 'afsluiter_soort'})\n",
    "\n",
    "# voor het UP moet ook nog rekening gehouden worden met of het een plugafsluiter is, voor de data verrijking niet\n",
    "afsluiters_inlaat = afsluiters[afsluiters['G inlaat'] != 'Leeg']\n",
    "afsluiters_inlaat = afsluiters_inlaat.rename(columns = {'G inlaat' : 'station_id'})\n",
    "afsluiters_inlaat = afsluiters_inlaat.drop(['G uitlaat'], axis=1)\n",
    "\n",
    "# soms is een afsluiter zowel inlaat als uitlaat van een station, als dat zo is worden ze meegenomen bij de inlaatafsluiters\n",
    "afsluiters_uitlaat = afsluiters[(afsluiters['G uitlaat'] != 'Leeg') & (afsluiters['G inlaat'] == 'Leeg')]\n",
    "afsluiters_uitlaat = afsluiters_uitlaat.rename(columns = {'G uitlaat' : 'station_id'})\n",
    "afsluiters_uitlaat = afsluiters_uitlaat.drop(['G inlaat'], axis=1)\n",
    "\n",
    "station_afsluiters = afsluiters_uitlaat.append(afsluiters_inlaat)\n"
   ]
  },
  {
   "cell_type": "code",
   "execution_count": 38,
   "metadata": {},
   "outputs": [
    {
     "data": {
      "text/plain": [
       "afsluiter_soort\n",
       "Axiaal                       40\n",
       "Diafragma                    31\n",
       "Kogelkraan                 3996\n",
       "Kogelkraan met reductie      35\n",
       "Kogelkraan/Las               24\n",
       "Membraan                     24\n",
       "O-Ring                       80\n",
       "Onbekend                   4745\n",
       "Plugkraan                  1492\n",
       "Schuif                     7401\n",
       "Schuif/Klep                 719\n",
       "Vlinderklep                 492\n",
       "dtype: int64"
      ]
     },
     "execution_count": 38,
     "metadata": {},
     "output_type": "execute_result"
    }
   ],
   "source": [
    "afsluiters[afsluiters['Functie'] == 'Netafsluiter'].groupby('afsluiter_soort').size()"
   ]
  },
  {
   "cell_type": "code",
   "execution_count": 41,
   "metadata": {},
   "outputs": [
    {
     "data": {
      "text/plain": [
       "(99, 27)"
      ]
     },
     "execution_count": 41,
     "metadata": {},
     "output_type": "execute_result"
    }
   ],
   "source": [
    "afsluiters[(afsluiters['Functie'] == 'Scheidingsafsluiter') &\n",
    "           (afsluiters['G inlaat'] == 'Leeg') &\n",
    "           (afsluiters['G uitlaat'] == 'Leeg') &\n",
    "           (afsluiters['Stand'] == 'Dicht')].shape"
   ]
  },
  {
   "cell_type": "code",
   "execution_count": 10,
   "metadata": {},
   "outputs": [
    {
     "data": {
      "text/plain": [
       "(5022, 27)"
      ]
     },
     "execution_count": 10,
     "metadata": {},
     "output_type": "execute_result"
    }
   ],
   "source": [
    "afsluiters[afsluiters['Functie'] == 'Scheidingsafsluiter'].shape"
   ]
  },
  {
   "cell_type": "code",
   "execution_count": 11,
   "metadata": {
    "collapsed": true
   },
   "outputs": [],
   "source": [
    "merge = pd.merge(station_afsluiters, stations, on='station_id').loc[:, ['afsluiter_id',\n",
    "                                                                        'Functie',\n",
    "                                                                        'station_id',\n",
    "                                                                        'Stationnummer/-naam',\n",
    "                                                                        'station_soort',\n",
    "                                                                        'Druk',\n",
    "                                                                        'station_status']]"
   ]
  },
  {
   "cell_type": "code",
   "execution_count": null,
   "metadata": {
    "collapsed": true
   },
   "outputs": [],
   "source": [
    "# maak mogelijkheden steeds kleiner door te filteren naar Type, Diameter, Druk en soort"
   ]
  },
  {
   "cell_type": "code",
   "execution_count": 10,
   "metadata": {},
   "outputs": [
    {
     "data": {
      "text/html": [
       "<div>\n",
       "<style>\n",
       "    .dataframe thead tr:only-child th {\n",
       "        text-align: right;\n",
       "    }\n",
       "\n",
       "    .dataframe thead th {\n",
       "        text-align: left;\n",
       "    }\n",
       "\n",
       "    .dataframe tbody tr th {\n",
       "        vertical-align: top;\n",
       "    }\n",
       "</style>\n",
       "<table border=\"1\" class=\"dataframe\">\n",
       "  <thead>\n",
       "    <tr style=\"text-align: right;\">\n",
       "      <th></th>\n",
       "      <th>Huisaansluitset</th>\n",
       "      <th>Afleverstation</th>\n",
       "    </tr>\n",
       "    <tr>\n",
       "      <th>Functie</th>\n",
       "      <th></th>\n",
       "      <th></th>\n",
       "    </tr>\n",
       "  </thead>\n",
       "  <tbody>\n",
       "    <tr>\n",
       "      <th>Brandafsluiter</th>\n",
       "      <td>1</td>\n",
       "      <td>1</td>\n",
       "    </tr>\n",
       "    <tr>\n",
       "      <th>Netafsluiter</th>\n",
       "      <td>44</td>\n",
       "      <td>14</td>\n",
       "    </tr>\n",
       "    <tr>\n",
       "      <th>Onbekend</th>\n",
       "      <td>2</td>\n",
       "      <td>3</td>\n",
       "    </tr>\n",
       "    <tr>\n",
       "      <th>Scheidingsafsluiter</th>\n",
       "      <td>2117</td>\n",
       "      <td>92</td>\n",
       "    </tr>\n",
       "    <tr>\n",
       "      <th>Scheidingsafsluiter inlaat</th>\n",
       "      <td>2050</td>\n",
       "      <td>1815</td>\n",
       "    </tr>\n",
       "    <tr>\n",
       "      <th>Scheidingsafsluiter uitlaat</th>\n",
       "      <td>59</td>\n",
       "      <td>75</td>\n",
       "    </tr>\n",
       "  </tbody>\n",
       "</table>\n",
       "</div>"
      ],
      "text/plain": [
       "                             Huisaansluitset  Afleverstation\n",
       "Functie                                                     \n",
       "Brandafsluiter                             1               1\n",
       "Netafsluiter                              44              14\n",
       "Onbekend                                   2               3\n",
       "Scheidingsafsluiter                     2117              92\n",
       "Scheidingsafsluiter inlaat              2050            1815\n",
       "Scheidingsafsluiter uitlaat               59              75"
      ]
     },
     "execution_count": 10,
     "metadata": {},
     "output_type": "execute_result"
    }
   ],
   "source": [
    "# AS en HAS met gekoppelde afsluiters\n",
    "\n",
    "scheidingsafsluiters = pd.DataFrame()\n",
    "scheidingsafsluiters.loc[:,'Huisaansluitset'] = merge[merge['station_soort'] == 'Huisaansluitset'].groupby('Functie').size()\n",
    "scheidingsafsluiters.loc[:,'Afleverstation'] = merge[merge['station_soort'] == 'Afleverstation'].groupby('Functie').size()\n",
    "scheidingsafsluiters"
   ]
  },
  {
   "cell_type": "code",
   "execution_count": 12,
   "metadata": {},
   "outputs": [],
   "source": [
    "#merge[(merge['station_soort'] == 'Huisaansluitset') & (merge['Functie'] == 'Scheidingsafsluiter uitlaat')]"
   ]
  },
  {
   "cell_type": "code",
   "execution_count": 11,
   "metadata": {},
   "outputs": [
    {
     "data": {
      "text/html": [
       "<div>\n",
       "<style>\n",
       "    .dataframe thead tr:only-child th {\n",
       "        text-align: right;\n",
       "    }\n",
       "\n",
       "    .dataframe thead th {\n",
       "        text-align: left;\n",
       "    }\n",
       "\n",
       "    .dataframe tbody tr th {\n",
       "        vertical-align: top;\n",
       "    }\n",
       "</style>\n",
       "<table border=\"1\" class=\"dataframe\">\n",
       "  <thead>\n",
       "    <tr style=\"text-align: right;\">\n",
       "      <th></th>\n",
       "      <th>LD</th>\n",
       "      <th>HD</th>\n",
       "    </tr>\n",
       "    <tr>\n",
       "      <th>Functie</th>\n",
       "      <th></th>\n",
       "      <th></th>\n",
       "    </tr>\n",
       "  </thead>\n",
       "  <tbody>\n",
       "    <tr>\n",
       "      <th>Brandafsluiter</th>\n",
       "      <td>3</td>\n",
       "      <td>2</td>\n",
       "    </tr>\n",
       "    <tr>\n",
       "      <th>Netafsluiter</th>\n",
       "      <td>34</td>\n",
       "      <td>32</td>\n",
       "    </tr>\n",
       "    <tr>\n",
       "      <th>Onbekend</th>\n",
       "      <td>2</td>\n",
       "      <td>0</td>\n",
       "    </tr>\n",
       "    <tr>\n",
       "      <th>Scheidingsafsluiter</th>\n",
       "      <td>974</td>\n",
       "      <td>859</td>\n",
       "    </tr>\n",
       "    <tr>\n",
       "      <th>Scheidingsafsluiter inlaat</th>\n",
       "      <td>17</td>\n",
       "      <td>1261</td>\n",
       "    </tr>\n",
       "    <tr>\n",
       "      <th>Scheidingsafsluiter uitlaat</th>\n",
       "      <td>1379</td>\n",
       "      <td>8</td>\n",
       "    </tr>\n",
       "  </tbody>\n",
       "</table>\n",
       "</div>"
      ],
      "text/plain": [
       "                               LD    HD\n",
       "Functie                                \n",
       "Brandafsluiter                  3     2\n",
       "Netafsluiter                   34    32\n",
       "Onbekend                        2     0\n",
       "Scheidingsafsluiter           974   859\n",
       "Scheidingsafsluiter inlaat     17  1261\n",
       "Scheidingsafsluiter uitlaat  1379     8"
      ]
     },
     "execution_count": 11,
     "metadata": {},
     "output_type": "execute_result"
    }
   ],
   "source": [
    "# DS met hoge druk hoort inlaat te zijn en met lage druk uitlaat\n",
    "\n",
    "DS_afsluiters = pd.DataFrame()\n",
    "DS_afsluiters.loc[:,'LD'] = merge[(merge['station_soort'] == 'Districtstation') &\n",
    "                                  (merge['Druk'].str.contains('mbar'))].groupby('Functie').size()\n",
    "DS_afsluiters.loc[:,'HD'] = merge[(merge['station_soort'] == 'Districtstation') &\n",
    "                                  (merge['Druk'].str.contains(' bar'))].groupby('Functie').size()\n",
    "DS_afsluiters.fillna(0).astype(int)"
   ]
  },
  {
   "cell_type": "code",
   "execution_count": 40,
   "metadata": {},
   "outputs": [
    {
     "data": {
      "text/html": [
       "<div>\n",
       "<style>\n",
       "    .dataframe thead tr:only-child th {\n",
       "        text-align: right;\n",
       "    }\n",
       "\n",
       "    .dataframe thead th {\n",
       "        text-align: left;\n",
       "    }\n",
       "\n",
       "    .dataframe tbody tr th {\n",
       "        vertical-align: top;\n",
       "    }\n",
       "</style>\n",
       "<table border=\"1\" class=\"dataframe\">\n",
       "  <thead>\n",
       "    <tr style=\"text-align: right;\">\n",
       "      <th></th>\n",
       "      <th>afsluiter_id</th>\n",
       "      <th>Functie</th>\n",
       "      <th>station_id</th>\n",
       "      <th>Stationnummer/-naam</th>\n",
       "      <th>station_soort</th>\n",
       "      <th>Druk</th>\n",
       "      <th>station_status</th>\n",
       "    </tr>\n",
       "  </thead>\n",
       "  <tbody>\n",
       "    <tr>\n",
       "      <th>241</th>\n",
       "      <td>1.2551e+06</td>\n",
       "      <td>Scheidingsafsluiter uitlaat</td>\n",
       "      <td>1.48862e+08</td>\n",
       "      <td>1</td>\n",
       "      <td>Districtstation</td>\n",
       "      <td>8000</td>\n",
       "      <td>In bedrijf</td>\n",
       "    </tr>\n",
       "    <tr>\n",
       "      <th>242</th>\n",
       "      <td>1.48947e+08</td>\n",
       "      <td>Scheidingsafsluiter uitlaat</td>\n",
       "      <td>1.48862e+08</td>\n",
       "      <td>1</td>\n",
       "      <td>Districtstation</td>\n",
       "      <td>8000</td>\n",
       "      <td>In bedrijf</td>\n",
       "    </tr>\n",
       "    <tr>\n",
       "      <th>287</th>\n",
       "      <td>1.26166e+06</td>\n",
       "      <td>Scheidingsafsluiter uitlaat</td>\n",
       "      <td>1.36243e+06</td>\n",
       "      <td>1333</td>\n",
       "      <td>Districtstation</td>\n",
       "      <td>1000</td>\n",
       "      <td>In bedrijf</td>\n",
       "    </tr>\n",
       "    <tr>\n",
       "      <th>1253</th>\n",
       "      <td>2.43821e+07</td>\n",
       "      <td>Scheidingsafsluiter uitlaat</td>\n",
       "      <td>2.61909e+07</td>\n",
       "      <td>203031060</td>\n",
       "      <td>Districtstation</td>\n",
       "      <td>8000</td>\n",
       "      <td>In bedrijf</td>\n",
       "    </tr>\n",
       "    <tr>\n",
       "      <th>1333</th>\n",
       "      <td>2.43863e+07</td>\n",
       "      <td>Scheidingsafsluiter uitlaat</td>\n",
       "      <td>2.62249e+07</td>\n",
       "      <td>203033216</td>\n",
       "      <td>Districtstation</td>\n",
       "      <td>8000</td>\n",
       "      <td>In bedrijf</td>\n",
       "    </tr>\n",
       "    <tr>\n",
       "      <th>1439</th>\n",
       "      <td>2.43792e+07</td>\n",
       "      <td>Scheidingsafsluiter uitlaat</td>\n",
       "      <td>2.61615e+07</td>\n",
       "      <td>203079051</td>\n",
       "      <td>Districtstation</td>\n",
       "      <td>8000</td>\n",
       "      <td>In bedrijf</td>\n",
       "    </tr>\n",
       "    <tr>\n",
       "      <th>3434</th>\n",
       "      <td>1.53603e+08</td>\n",
       "      <td>Scheidingsafsluiter uitlaat</td>\n",
       "      <td>1.52882e+08</td>\n",
       "      <td>DSH88</td>\n",
       "      <td>Districtstation</td>\n",
       "      <td>8000</td>\n",
       "      <td>In bedrijf</td>\n",
       "    </tr>\n",
       "    <tr>\n",
       "      <th>3727</th>\n",
       "      <td>1.57884e+08</td>\n",
       "      <td>Scheidingsafsluiter uitlaat</td>\n",
       "      <td>2.22282e+08</td>\n",
       "      <td>2811.DS.018</td>\n",
       "      <td>Districtstation</td>\n",
       "      <td>3000</td>\n",
       "      <td>In bedrijf</td>\n",
       "    </tr>\n",
       "  </tbody>\n",
       "</table>\n",
       "</div>"
      ],
      "text/plain": [
       "     afsluiter_id                      Functie   station_id  \\\n",
       "241    1.2551e+06  Scheidingsafsluiter uitlaat  1.48862e+08   \n",
       "242   1.48947e+08  Scheidingsafsluiter uitlaat  1.48862e+08   \n",
       "287   1.26166e+06  Scheidingsafsluiter uitlaat  1.36243e+06   \n",
       "1253  2.43821e+07  Scheidingsafsluiter uitlaat  2.61909e+07   \n",
       "1333  2.43863e+07  Scheidingsafsluiter uitlaat  2.62249e+07   \n",
       "1439  2.43792e+07  Scheidingsafsluiter uitlaat  2.61615e+07   \n",
       "3434  1.53603e+08  Scheidingsafsluiter uitlaat  1.52882e+08   \n",
       "3727  1.57884e+08  Scheidingsafsluiter uitlaat  2.22282e+08   \n",
       "\n",
       "     Stationnummer/-naam    station_soort  Druk station_status  \n",
       "241                    1  Districtstation  8000     In bedrijf  \n",
       "242                    1  Districtstation  8000     In bedrijf  \n",
       "287                 1333  Districtstation  1000     In bedrijf  \n",
       "1253           203031060  Districtstation  8000     In bedrijf  \n",
       "1333           203033216  Districtstation  8000     In bedrijf  \n",
       "1439           203079051  Districtstation  8000     In bedrijf  \n",
       "3434               DSH88  Districtstation  8000     In bedrijf  \n",
       "3727         2811.DS.018  Districtstation  3000     In bedrijf  "
      ]
     },
     "execution_count": 40,
     "metadata": {},
     "output_type": "execute_result"
    }
   ],
   "source": [
    "merge[(merge['station_soort'] == 'Districtstation') & (merge['Functie'] == 'Scheidingsafsluiter uitlaat') &\n",
    "      (merge['Druk'].isin(['1000', '2000', '3000', '4000', '8000']))]"
   ]
  },
  {
   "cell_type": "code",
   "execution_count": 12,
   "metadata": {
    "collapsed": true
   },
   "outputs": [],
   "source": [
    "# zet de druk om naar mbar om zo hogere en lagere drukken gemakkelijker te vergelijken\n",
    "merge['Druk'] = merge['Druk'].replace('\\s', '', regex= True)\n",
    "merge['Druk'] = merge['Druk'].replace('mbar', '', regex= True)\n",
    "merge['Druk'] = merge['Druk'].replace('bar', '000', regex= True)\n",
    "groep = merge.groupby(['station_id'])['Functie', 'Druk', 'afsluiter_id'].agg(lambda x: list(x))"
   ]
  },
  {
   "cell_type": "code",
   "execution_count": 13,
   "metadata": {},
   "outputs": [
    {
     "data": {
      "text/plain": [
       "['30', '1000']"
      ]
     },
     "execution_count": 13,
     "metadata": {},
     "output_type": "execute_result"
    }
   ],
   "source": [
    "[groep.iloc[x] for x in range(len(groep)) if len(groep.iloc[x].Functie) == 2][0].Druk"
   ]
  },
  {
   "cell_type": "code",
   "execution_count": 14,
   "metadata": {},
   "outputs": [
    {
     "data": {
      "text/plain": [
       "station_id   Druk\n",
       "1365019.0    1000                        [Scheidingsafsluiter uitlaat]\n",
       "             8000                         [Scheidingsafsluiter inlaat]\n",
       "1365082.0    1000                        [Scheidingsafsluiter uitlaat]\n",
       "             8000                         [Scheidingsafsluiter inlaat]\n",
       "1365235.0    1000    [Scheidingsafsluiter uitlaat, Scheidingsafslui...\n",
       "             30                          [Scheidingsafsluiter uitlaat]\n",
       "             8000    [Scheidingsafsluiter inlaat, Scheidingsafsluit...\n",
       "1365320.0    1000                        [Scheidingsafsluiter uitlaat]\n",
       "             8000                         [Scheidingsafsluiter inlaat]\n",
       "1365663.0    1000                        [Scheidingsafsluiter uitlaat]\n",
       "             8000                         [Scheidingsafsluiter inlaat]\n",
       "1366122.0    1000                        [Scheidingsafsluiter uitlaat]\n",
       "             8000                         [Scheidingsafsluiter inlaat]\n",
       "1366213.0    1000                        [Scheidingsafsluiter uitlaat]\n",
       "             8000                         [Scheidingsafsluiter inlaat]\n",
       "1366237.0    1000                        [Scheidingsafsluiter uitlaat]\n",
       "             8000                         [Scheidingsafsluiter inlaat]\n",
       "1366788.0    1000                        [Scheidingsafsluiter uitlaat]\n",
       "             8000                         [Scheidingsafsluiter inlaat]\n",
       "1368031.0    1000                                [Scheidingsafsluiter]\n",
       "             8000                                [Scheidingsafsluiter]\n",
       "1368081.0    1000                        [Scheidingsafsluiter uitlaat]\n",
       "             8000                         [Scheidingsafsluiter inlaat]\n",
       "1368171.0    1000                        [Scheidingsafsluiter uitlaat]\n",
       "             8000                         [Scheidingsafsluiter inlaat]\n",
       "1370444.0    1000                        [Scheidingsafsluiter uitlaat]\n",
       "             8000                         [Scheidingsafsluiter inlaat]\n",
       "1370573.0    1000                                [Scheidingsafsluiter]\n",
       "             8000                                [Scheidingsafsluiter]\n",
       "1370786.0    1000                        [Scheidingsafsluiter uitlaat]\n",
       "                                           ...                        \n",
       "210818074.0  1000                        [Scheidingsafsluiter uitlaat]\n",
       "             8000                         [Scheidingsafsluiter inlaat]\n",
       "212305678.0  4000                        [Scheidingsafsluiter uitlaat]\n",
       "             8000                         [Scheidingsafsluiter inlaat]\n",
       "213856943.0  1000                        [Scheidingsafsluiter uitlaat]\n",
       "             8000                         [Scheidingsafsluiter inlaat]\n",
       "213971284.0  100                          [Scheidingsafsluiter inlaat]\n",
       "             30                          [Scheidingsafsluiter uitlaat]\n",
       "215417098.0  1000                        [Scheidingsafsluiter uitlaat]\n",
       "             8000                         [Scheidingsafsluiter inlaat]\n",
       "221373207.0  3000                        [Scheidingsafsluiter uitlaat]\n",
       "             8000                         [Scheidingsafsluiter inlaat]\n",
       "223035559.0  1000                        [Scheidingsafsluiter uitlaat]\n",
       "             8000                         [Scheidingsafsluiter inlaat]\n",
       "230093267.0  2000                        [Scheidingsafsluiter uitlaat]\n",
       "             8000                         [Scheidingsafsluiter inlaat]\n",
       "231065286.0  3000                                       [Netafsluiter]\n",
       "             8000                         [Scheidingsafsluiter inlaat]\n",
       "231705672.0  100                          [Scheidingsafsluiter inlaat]\n",
       "             30                                         [Netafsluiter]\n",
       "241153614.0  3000                        [Scheidingsafsluiter uitlaat]\n",
       "             8000                         [Scheidingsafsluiter inlaat]\n",
       "244143333.0  8000                         [Scheidingsafsluiter inlaat]\n",
       "288554224.0  1000                        [Scheidingsafsluiter uitlaat]\n",
       "             8000                         [Scheidingsafsluiter inlaat]\n",
       "288555853.0  8000                         [Scheidingsafsluiter inlaat]\n",
       "301544971.0  3000                        [Scheidingsafsluiter uitlaat]\n",
       "             8000                         [Scheidingsafsluiter inlaat]\n",
       "309634448.0  2000                        [Scheidingsafsluiter uitlaat]\n",
       "             8000                         [Scheidingsafsluiter inlaat]\n",
       "Name: Functie, Length: 302, dtype: object"
      ]
     },
     "execution_count": 14,
     "metadata": {},
     "output_type": "execute_result"
    }
   ],
   "source": [
    "# bij dezelfde OS is de hoge druk de inlaat en de lage druk de uitlaat\n",
    "merge[(merge['station_soort'] == 'Overslagstation')].groupby('Functie').size()\n",
    "\n",
    "merge[(merge['station_soort'] == 'Overslagstation')].groupby(['station_id','Druk'])['Functie'].apply(list)"
   ]
  },
  {
   "cell_type": "code",
   "execution_count": null,
   "metadata": {
    "collapsed": true
   },
   "outputs": [],
   "source": [
    "#from pandas import ExcelWriter\n",
    "#from pandas import ExcelFile\n",
    "#writer = ExcelWriter('Panda_export.xlsx')\n",
    "#merge_net.to_excel(writer,'Sheet1',index=False)\n",
    "#writer.save()"
   ]
  },
  {
   "cell_type": "code",
   "execution_count": null,
   "metadata": {
    "collapsed": true
   },
   "outputs": [],
   "source": [
    "# percentage stations met gekoppelde afsluiters # dit is lager vanwege alle buiten bedrijf stations die meetellen nu\n",
    "aantal_stations = stations.shape[0]\n",
    "aantal_stations_met_afsluiter = afsluiters[(afsluiters['G inlaat'].isin(stations['station_id'].tolist())) |\n",
    "                               (afsluiters['G uitlaat'].isin(stations['station_id'].tolist()))].shape[0]\n",
    "percentage_stations_met_afsluiters = 100 * aantal_stations_met_afsluiter / stations.shape[0]\n",
    "\n",
    "round(percentage_stations_met_afsluiters, 2)"
   ]
  },
  {
   "cell_type": "code",
   "execution_count": null,
   "metadata": {
    "collapsed": true
   },
   "outputs": [],
   "source": [
    "merge[(merge['station_status'] == 'In bedrijf') & (merge['station_soort'] == 'Ontvangstation') & (merge['Druk'] == '4 bar')].afsluiter_id.astype(int)"
   ]
  },
  {
   "cell_type": "code",
   "execution_count": null,
   "metadata": {
    "collapsed": true
   },
   "outputs": [],
   "source": [
    "# in bedrijf zijnde stations met gekoppelde afsluiters\n",
    "\n",
    "station_aantal = stations[stations['station_status'] == 'In bedrijf'].groupby('station_soort').nunique()['station_id']\n",
    "gekoppelde_aantal = merge[merge['station_status'] == 'In bedrijf'].groupby('station_soort').nunique()['station_id']\n",
    "\n",
    "koppeling = pd.DataFrame()\n",
    "koppeling.loc[:, 'Aantal stations'] = station_aantal\n",
    "koppeling.loc[:, 'Aantal gekoppelde stations'] = gekoppelde_aantal\n",
    "koppeling.loc[:, 'Percentage'] = round(100 * koppeling.loc[:, 'Aantal gekoppelde stations'] /\n",
    "                                       koppeling.loc[:, 'Aantal stations'], 1)\n",
    "koppeling"
   ]
  },
  {
   "cell_type": "code",
   "execution_count": null,
   "metadata": {
    "collapsed": true
   },
   "outputs": [],
   "source": [
    "AFS_dataframe = pd.DataFrame()\n",
    "\n",
    "# lagedrukinstallaties zijn stations, maar tellen niet als dusdanig mee\n",
    "LS_merge = merge[merge['station_soort'] == 'Lagedrukinstallatie']\n",
    "LS_HD = LS_merge[LS_merge['Druk'].str.contains(' bar')].shape[0]\n",
    "LS_LD = LS_merge[LS_merge['Druk'].str.contains('mbar')].shape[0]\n",
    "\n",
    "# Ontvangstation zijn stations, maar tellen niet als dusdanig mee\n",
    "GOS_merge = merge[merge['station_soort'] == 'Ontvangstation']\n",
    "GOS_HD = GOS_merge[GOS_merge['Druk'].str.contains(' bar')].shape[0]\n",
    "GOS_LD = GOS_merge[GOS_merge['Druk'].str.contains('mbar')].shape[0]\n",
    "\n",
    "LD_net_extra = merge_net['Druk'].str.contains('mbar').sum() # dit zijn de afsluiters gekoppeld met stations die niet in gebruik zijn\n",
    "HD_net_extra = merge_net['Druk'].str.contains(' bar').sum()\n",
    "\n",
    "AFS_dataframe.loc['HD', 'net'] = net_afsluiters[net_afsluiters['Druk'].str.contains(' bar')].count()[0] + LS_HD + GOS_HD + HD_net_extra\n",
    "AFS_dataframe.loc['LD', 'net'] = net_afsluiters[net_afsluiters['Druk'].str.contains('mbar')].count()[0] + LS_LD + GOS_LD + LD_net_extra\n",
    "\n",
    "DS_merge = merge[merge['station_soort'] == 'Districtstation']\n",
    "AFS_dataframe.loc['HD', 'DS'] = DS_merge[DS_merge['Druk'].str.contains(' bar')].shape[0]\n",
    "AFS_dataframe.loc['LD', 'DS'] = DS_merge[DS_merge['Druk'].str.contains('mbar')].shape[0]\n",
    "\n",
    "OS_merge = merge[merge['station_soort'] == 'Overslagstation']\n",
    "AFS_dataframe.loc['HD', 'OS'] = OS_merge[OS_merge['Druk'].str.contains(' bar')].shape[0]\n",
    "AFS_dataframe.loc['LD', 'OS'] = OS_merge[OS_merge['Druk'].str.contains('mbar')].shape[0]\n",
    "\n",
    "AS_merge = merge[merge['station_soort'] == 'Afleverstation']\n",
    "AFS_dataframe.loc['HD', 'AS'] = AS_merge[AS_merge['Druk'].str.contains(' bar')].shape[0]\n",
    "AFS_dataframe.loc['LD', 'AS'] = AS_merge[AS_merge['Druk'].str.contains('mbar')].shape[0]\n",
    "\n",
    "HAS_merge = merge[merge['station_soort'] == 'Huisaansluitset']\n",
    "AFS_dataframe.loc['HD', 'HAS'] = HAS_merge[HAS_merge['Druk'].str.contains(' bar')].shape[0]\n",
    "AFS_dataframe.loc['LD', 'HAS'] = HAS_merge[HAS_merge['Druk'].str.contains('mbar')].shape[0]\n",
    "\n",
    "AFS_dataframe.loc['HD', 'plug'] = plug_afsluiters[plug_afsluiters['Druk'].str.contains(' bar')].shape[0]\n",
    "AFS_dataframe.loc['LD', 'plug'] = plug_afsluiters[plug_afsluiters['Druk'].str.contains('mbar')].shape[0]\n",
    "\n",
    "AFS_dataframe['totaal'] = AFS_dataframe.sum(axis=1)"
   ]
  },
  {
   "cell_type": "code",
   "execution_count": null,
   "metadata": {
    "collapsed": true
   },
   "outputs": [],
   "source": [
    "AFS_dataframe"
   ]
  },
  {
   "cell_type": "code",
   "execution_count": null,
   "metadata": {
    "collapsed": true
   },
   "outputs": [],
   "source": [
    "afsluiters.shape[0], AFS_dataframe.totaal.sum()"
   ]
  },
  {
   "cell_type": "code",
   "execution_count": null,
   "metadata": {
    "collapsed": true
   },
   "outputs": [],
   "source": []
  }
 ],
 "metadata": {
  "kernelspec": {
   "display_name": "Python 3",
   "language": "python",
   "name": "python3"
  },
  "language_info": {
   "codemirror_mode": {
    "name": "ipython",
    "version": 3
   },
   "file_extension": ".py",
   "mimetype": "text/x-python",
   "name": "python",
   "nbconvert_exporter": "python",
   "pygments_lexer": "ipython3",
   "version": "3.6.3"
  }
 },
 "nbformat": 4,
 "nbformat_minor": 2
}
