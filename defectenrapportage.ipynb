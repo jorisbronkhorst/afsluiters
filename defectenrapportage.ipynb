{
 "cells": [
  {
   "cell_type": "code",
   "execution_count": 202,
   "metadata": {
    "collapsed": true
   },
   "outputs": [],
   "source": [
    "import pandas as pd\n",
    "import numpy as np\n",
    "import matplotlib.pyplot as plt\n",
    "from operator import itemgetter"
   ]
  },
  {
   "cell_type": "code",
   "execution_count": 203,
   "metadata": {
    "collapsed": true
   },
   "outputs": [],
   "source": [
    "# importeer het defectenrapport\n",
    "xls = pd.read_excel('defectenrapportage_nieuw.xlsx', sheetname=None)\n",
    "\n",
    "# verzamel de verschillende tabs allemaal in een aparte dataframes\n",
    "dfs = [xls[tab].fillna('...') for tab in list(xls.keys())]\n",
    "\n",
    "# laat de 'vervolg WO (status / WO nr)' rijen vallen in alle dataframes\n",
    "dfs_reduced = [df.drop(df.index[df.Locatie == 'Vervolg WO  (status / WO nr)']) for df in dfs]\n",
    "\n",
    "# doe alle dataframes bij elkaar in 1 dataframe\n",
    "single_df = pd.concat(dfs_reduced, axis=0)\n",
    "\n",
    "# strip de locatie tot het formaat 'AFS.XXX.XXX' en selecteer alleen de locaties die daar aan voldoen\n",
    "single_df['Locatie'] = single_df['Locatie'].str[-11:]\n",
    "single_df_filtered = single_df[single_df['Locatie'].str[0:3] == 'AFS']\n",
    "inspectie = single_df_filtered.rename(columns={'Locatie': 'Identificatienummer'})\n",
    "\n",
    "# zet de index van 0 tot len(inspectie)\n",
    "inspectie.index = range(len(inspectie))\n",
    "\n",
    "# zet het Identificatienummer als de index van de dataframe\n",
    "inspectie2 = inspectie.set_index('Identificatienummer')"
   ]
  },
  {
   "cell_type": "code",
   "execution_count": 213,
   "metadata": {},
   "outputs": [
    {
     "data": {
      "text/plain": [
       "7136"
      ]
     },
     "execution_count": 213,
     "metadata": {},
     "output_type": "execute_result"
    }
   ],
   "source": [
    "len(inspectie['Identificatienummer'].unique())"
   ]
  },
  {
   "cell_type": "code",
   "execution_count": 167,
   "metadata": {
    "collapsed": true
   },
   "outputs": [],
   "source": [
    "# importeer de gegevens uit GIS\n",
    "xls2 = pd.read_excel('G Afsluiter 20180103.xlsx', sheetname=None)\n",
    "gis = xls2['G afsluiter'].fillna('...')\n",
    "gis = gis.drop(gis.index[gis.Identificatienummer == '...'])\n",
    "\n",
    "# zet de index van 0 tot len(gis)\n",
    "gis.index = range(len(gis))\n",
    "\n",
    "# zet het Identificatienummer als de index van de dataframe\n",
    "gis2 = gis.set_index('Identificatienummer')"
   ]
  },
  {
   "cell_type": "code",
   "execution_count": 198,
   "metadata": {
    "collapsed": true
   },
   "outputs": [],
   "source": [
    "# merge gis en inspectie df op identificatienummer\n",
    "merged_dfs = inspectie.merge(gis, on='Identificatienummer')\n",
    "\n",
    "# zet het identificatienummer als de index\n",
    "merged_dfs = merged_dfs.set_index('Identificatienummer')"
   ]
  },
  {
   "cell_type": "code",
   "execution_count": 201,
   "metadata": {},
   "outputs": [
    {
     "data": {
      "text/plain": [
       "Component\n",
       "...                            65\n",
       "Aanwijsbordje                3569\n",
       "Afsluiter                    4317\n",
       "Beschermbuis                    1\n",
       "Meetpunt/afblaas               16\n",
       "Nummerpen                     283\n",
       "Omrandingstegel               972\n",
       "Paal t.b.v. aanwijsbordje     284\n",
       "Spindel                       235\n",
       "Spindelkop                      2\n",
       "Straatpot                    1241\n",
       "dtype: int64"
      ]
     },
     "execution_count": 201,
     "metadata": {},
     "output_type": "execute_result"
    }
   ],
   "source": [
    "merged_dfs.groupby('Component').size()"
   ]
  }
 ],
 "metadata": {
  "kernelspec": {
   "display_name": "Python 3",
   "language": "python",
   "name": "python3"
  },
  "language_info": {
   "codemirror_mode": {
    "name": "ipython",
    "version": 3
   },
   "file_extension": ".py",
   "mimetype": "text/x-python",
   "name": "python",
   "nbconvert_exporter": "python",
   "pygments_lexer": "ipython3",
   "version": "3.6.3"
  }
 },
 "nbformat": 4,
 "nbformat_minor": 2
}
